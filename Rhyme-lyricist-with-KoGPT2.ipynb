{
  "cells": [
    {
      "cell_type": "markdown",
      "metadata": {
        "id": "wTBvGcuVjaqB"
      },
      "source": [
        "# 라임 기반의 작사 모델 - 라임 스코어"
      ]
    },
    {
      "cell_type": "markdown",
      "metadata": {
        "id": "hG3SkxFeRMdN"
      },
      "source": [
        "사용한 라이브러리와 오픈소스\n",
        "\n",
        "1. hgtk : https://github.com/bluedisk/hangul-toolkit\n",
        "2. googletrans : https://github.com/ssut/py-googletrans\n",
        "3. request : https://github.com/psf/requests\n",
        "4. 엑셀 오픈 모듈 openpyxl : https://openpyxl.readthedocs.io/en/stable/\n",
        "5. 데이터 프레임 라이브러리 pandas : https://pandas.pydata.org/\n",
        "6. 영어 => 한글발음 : \"https://transliterator.herokuapp.com/\"\n",
        "7. 한국어 word2vec : https://github.com/Kyubyong/wordvectors"
      ]
    },
    {
      "cell_type": "code",
      "execution_count": null,
      "metadata": {
        "id": "K5oAF_2yXuUv"
      },
      "outputs": [],
      "source": [
        "#환경이 google colab인 경우\n",
        "from google.colab import drive\n",
        "drive.mount('/gdrive', force_remount= True)"
      ]
    },
    {
      "cell_type": "code",
      "execution_count": null,
      "metadata": {
        "id": "8qq3y2NrKqcK"
      },
      "outputs": [],
      "source": [
        "!pip install -r requirements.txt"
      ]
    },
    {
      "cell_type": "code",
      "execution_count": null,
      "metadata": {
        "id": "UtpPO_5tgSc2"
      },
      "outputs": [],
      "source": [
        "#필요한 라이브러리 로드\n",
        "\n",
        "from collections import Counter\n",
        "import pandas as pd\n",
        "import re\n",
        "import openpyxl\n",
        "import requests \n",
        "import googletrans\n",
        "import hgtk\n",
        "import gensim\n",
        "from sys import stdout"
      ]
    },
    {
      "cell_type": "code",
      "execution_count": null,
      "metadata": {
        "id": "r_Q60ojZitX6"
      },
      "outputs": [],
      "source": [
        "#라임 스코어링에 사용할 단어 로드\n",
        "#( 자주 사용되는 기본 단어 목록 + 사용할 가사 데이터)\n",
        "\n",
        "#lyrics\n",
        "#사용할 데이터 경로 지정\n",
        "\n",
        "#=============================================================================\n",
        "base = \"/gdrive/My Drive/Colab Notebooks/corpus_data/corpus.xlsx\"\n",
        "lyrics = \"/gdrive/My Drive/Colab Notebooks/corpus_data/hiphop.txt\"\n",
        "\n",
        "lyrics_xlsx_list = [\"9000D\",\"9000B\",\"0110D\",\"0110B\",\"1119B\",\"1119D\"]\n",
        "#=============================================================================\n",
        "\n",
        "base_df = pd.read_excel(base, engine='openpyxl')\n",
        "\n",
        "#기본단어 , 가사중 kor , 가사중 eng\n",
        "base_word = []\n",
        "lyric_word_kor = []\n",
        "lyric_word_eng = []\n",
        "\n",
        "for i in base_df.itertuples():\n",
        "   x = re.sub('[^A-Za-z가-힣]', '', i.단어)\n",
        "   base_word.append(x)\n",
        "\n",
        "lydata = open(lyrics, \"r\", encoding='euc-kr').read().splitlines()\n",
        "for i in lydata:\n",
        "  split_word = list(i.split(\" \"))\n",
        "  for word in split_word:\n",
        "    if word.upper() != word.lower():\n",
        "      word = re.sub('[^A-Za-z]', '', word)\n",
        "      lyric_word_eng.append(word)\n",
        "    else:\n",
        "      word = re.sub('[^가-힣]', '', word)\n",
        "      lyric_word_kor.append(word)\n",
        "\n",
        "lyric_word_kor = list(set(lyric_word_kor))\n",
        "lyric_word_eng = list(set(lyric_word_eng))\n",
        "\n",
        "print(len(lyric_word_kor))\n",
        "print(len(lyric_word_eng))\n"
      ]
    },
    {
      "cell_type": "code",
      "execution_count": null,
      "metadata": {
        "id": "nrsMQuUbW_mf"
      },
      "outputs": [],
      "source": [
        "#=============================================================================\n",
        "\n",
        "lyrics_xlsx_list = [\"9000D\",\"9000B\",\"0110D\",\"0110B\",\"1119B\",\"1119D\"]\n",
        "base_xl = \"/gdrive/My Drive/Colab Notebooks/corpus_data/\"\n",
        "\n",
        "#=============================================================================\n",
        "\n",
        "lines = \"\"\n",
        "for k in lyrics_xlsx_list:\n",
        "  base_df_ly = pd.read_excel(base_xl+k+\".xlsx\", engine='openpyxl')\n",
        "\n",
        "  for i in base_df_ly.itertuples():\n",
        "    ly_line = i.lyrics\n",
        "    for word in ly_line.split(\" \"):\n",
        "      if word.upper() != word.lower():\n",
        "        word = re.sub('[^A-Za-z]', '', word)\n",
        "        lyric_word_eng.append(word)\n",
        "      else:\n",
        "        word = re.sub('[^가-힣]', '', word)\n",
        "        lyric_word_kor.append(word)\n",
        "\n",
        "lyric_word_kor = list(set(lyric_word_kor))\n",
        "lyric_word_eng = list(set(lyric_word_eng))\n",
        "\n",
        "print(len(lyric_word_kor))\n",
        "print(len(lyric_word_eng))\n",
        "lyric_word_eng_to_kor = {}"
      ]
    },
    {
      "cell_type": "code",
      "execution_count": null,
      "metadata": {
        "id": "YE3gRuLpy7-K"
      },
      "outputs": [],
      "source": [
        "#영어를 한글 발음으로 변환해주는 사이트를 이용\n",
        "#영문 단어들에 대한 라임을 고려하기 위해 한글발음으로 변환\n",
        "\n",
        "#영문단어를 사용하지 않는다면 실행 X\n",
        "\n",
        "lyric_word_eng_to_kor = {}\n",
        "translator = googletrans.Translator()\n",
        "\n",
        "url = \"https://transliterator.herokuapp.com/\"\n",
        "sess = requests.Session()\n",
        "\n",
        "all = len(lyric_word_eng)\n",
        "idx = 0\n",
        "\n",
        "for i in lyric_word_eng:\n",
        "  payload = {'input': i}\n",
        "  res = sess.post(url, data = payload)\n",
        "  change_kor = res.json()['output'].replace('?',' ')\n",
        "  \n",
        "  result = translator.translate(i, dest='ko')\n",
        "\n",
        "  lyric_word_eng_to_kor[i] = [change_kor,result.text]\n",
        "  \n",
        "  progress = 100*(idx+1)/all\n",
        "  stdout.write(\"\\r ===== %d%% completed =====\" % progress)\n",
        "  stdout.flush()\n",
        "  idx += 1\n",
        "stdout.write(\"\\n\")\n",
        "\n",
        "#딕셔너리에 영어단어 : [발음 , 의미] 로 mapping\n",
        "print(lyric_word_eng_to_kor)\n",
        "\n"
      ]
    },
    {
      "cell_type": "code",
      "execution_count": null,
      "metadata": {
        "id": "QQ0Vp1GW07iu"
      },
      "outputs": [],
      "source": [
        "#두 단어 사이의 hit을 매기는 함수 \n",
        "#라임의 경우 모음에 치중한 경우가 많아 모음에 hit score를 더줌\n",
        "#모음이 같은 경우 : +2 / 자음이 같은 경우 +1\n",
        "\n",
        "def rhyme_score(word1, word2):\n",
        "  if len(word1) > len(word2):\n",
        "    swap = word1\n",
        "    word1 = word2\n",
        "    word2 = swap\n",
        "\n",
        "  w1_slice = []\n",
        "  w2_every = []\n",
        "  for i in word1:\n",
        "    a = hgtk.letter.decompose(i)\n",
        "    w1_slice.append(a)\n",
        "\n",
        "  for i in range(0,len(word2)-len(word1)+1):\n",
        "    w2 = word2[i:i+len(word1)]\n",
        "    w2_slice = []\n",
        "    for k in w2:\n",
        "      a = hgtk.letter.decompose(k)\n",
        "      w2_slice.append(a)\n",
        "    w2_every.append(w2_slice)\n",
        "\n",
        "  max_hit = 0\n",
        "  for idx in w2_every:\n",
        "    hit = 0\n",
        "    for i in range(len(w1_slice)):\n",
        "      for k in range(3):\n",
        "        if w1_slice[i][k] != \"\" and idx[i][k] != \"\":\n",
        "          if w1_slice[i][k] == idx[i][k]:\n",
        "            if k == 1:\n",
        "              hit += 2\n",
        "            else:\n",
        "              hit += 1\n",
        "    if hit > max_hit:\n",
        "      max_hit = hit\n",
        "\n",
        "  return max_hit\n"
      ]
    },
    {
      "cell_type": "code",
      "execution_count": null,
      "metadata": {
        "id": "Z5z4JCtoHt0Z"
      },
      "outputs": [],
      "source": [
        "#base 단어에 대한 score 예시\n",
        "\n",
        "def score_rank(key_word,max_hit_times,min_hit_times):\n",
        "  base_score = [] #기본 단어 스코어\n",
        "  lyric_score = [] #가사 단어 스코어\n",
        "  lyric_eng_score = [] #영단어 스코어\n",
        "\n",
        "  for i in base_word:\n",
        "    base_score.append([i,rhyme_score(key_word,i)])\n",
        "\n",
        "  for i in lyric_word_kor:\n",
        "    lyric_score.append([i,rhyme_score(key_word,i)])\n",
        "\n",
        "  for i in lyric_word_eng_to_kor.keys():\n",
        "    kors = lyric_word_eng_to_kor[i]\n",
        "    lyric_eng_score.append([i,rhyme_score(key_word,kors[0])])\n",
        "\n",
        "  base_score = [i for i in base_score if max_hit_times >= i[1] >= min_hit_times]\n",
        "  lyric_score = [i for i in lyric_score if max_hit_times >= i[1] >= min_hit_times]\n",
        "  lyric_eng_score = [i for i in lyric_eng_score if max_hit_times >= i[1] >= min_hit_times]\n",
        "\n",
        "  base_score.sort(key=lambda x : x[1],reverse=True)\n",
        "  lyric_score.sort(key=lambda x : x[1],reverse=True)\n",
        "  lyric_eng_score.sort(key=lambda x : x[1],reverse=True)\n",
        "\n",
        "  return base_score , lyric_score , lyric_eng_score"
      ]
    },
    {
      "cell_type": "code",
      "execution_count": null,
      "metadata": {
        "id": "Z-qg1l76Hk56"
      },
      "outputs": [],
      "source": [
        "#=============================================================================\n",
        "\n",
        "word2vec_model = gensim.models.Word2Vec.load(\"/gdrive/My Drive/Colab Notebooks/corpus_data/ko/ko.bin\")\n",
        "\n",
        "#============================================================================="
      ]
    },
    {
      "cell_type": "code",
      "execution_count": null,
      "metadata": {
        "id": "vFXBFhe0MxOK"
      },
      "outputs": [],
      "source": [
        "def similar(word_1 , word_2):\n",
        "  try:\n",
        "\t  return (word2vec_model.wv.similarity(word_1,word_2))\n",
        "  except:\n",
        "\t  return -1"
      ]
    },
    {
      "cell_type": "code",
      "execution_count": null,
      "metadata": {
        "id": "kjpeDMaBO1Fy"
      },
      "outputs": [],
      "source": [
        "def sim_after_rhyme(key_word,max_hit_times,min_hit_times,min_level = 0):\n",
        "  a,b,c = score_rank(key_word,max_hit_times,min_hit_times)\n",
        "\n",
        "  base_sim = []\n",
        "\n",
        "  for i in a:\n",
        "    level = similar(key_word,i[0])\n",
        "    if level > min_level:\n",
        "      base_sim.append([i[0],i[1],level])\n",
        "\n",
        "  for i in b:\n",
        "    level = similar(key_word,i[0])\n",
        "    if level > min_level:\n",
        "      base_sim.append([i[0],i[1],level])\n",
        "\n",
        "  for i in c:\n",
        "    op = lyric_word_eng_to_kor[i[0]]\n",
        "    level = similar(key_word,op[1])\n",
        "    if level > min_level:\n",
        "      base_sim.append([i[0],i[1],level])\n",
        "  \n",
        "  base_sim.sort(key=lambda x : x[2],reverse=True)\n",
        "\n",
        "  return base_sim "
      ]
    },
    {
      "cell_type": "markdown",
      "metadata": {
        "id": "eHEEWXM4rISB"
      },
      "source": [
        "# 작사 모델 - KoGPT2\n"
      ]
    },
    {
      "cell_type": "markdown",
      "metadata": {
        "id": "znczc0khrT5I"
      },
      "source": [
        "사용 라이브러리와 오픈소스\n",
        "\n",
        "1. 파이토치 : https://pytorch.kr/\n",
        "2. koGPT2 : https://github.com/SKT-AI/KoGPT2\n",
        "3. fastai : https://github.com/fastai/fastai\n",
        "4. transformers : https://github.com/huggingface/transformers\n",
        "5. 한국어 글 문장 분리기 kss : https://github.com/hyunwoongko/kss"
      ]
    },
    {
      "cell_type": "code",
      "execution_count": null,
      "metadata": {
        "id": "Anr6WTRpraMR"
      },
      "outputs": [],
      "source": [
        "from typing import Optional\n",
        "import torch\n",
        "import transformers\n",
        "from transformers import AutoModelWithLMHead, PreTrainedTokenizerFast\n",
        "from fastai.text.all import *\n",
        "import fastai\n",
        "import re\n",
        "from transformers import GPT2LMHeadModel\n",
        "import kss"
      ]
    },
    {
      "cell_type": "code",
      "execution_count": null,
      "metadata": {
        "id": "DRQ7aGVi4Wug"
      },
      "outputs": [],
      "source": [
        "!nvidia-smi"
      ]
    },
    {
      "cell_type": "markdown",
      "metadata": {
        "id": "5wV3-FWEPf3G"
      },
      "source": [
        "## 모델 새로 Fine Tuning 하기\n",
        "모델이 이미 있다면 , 스킵"
      ]
    },
    {
      "cell_type": "code",
      "execution_count": null,
      "metadata": {
        "id": "6kLQuZIZrby_"
      },
      "outputs": [],
      "source": [
        "#KoGPT2 tokenizer,모델 불러오기\n",
        "tokenizer = PreTrainedTokenizerFast.from_pretrained(\"skt/kogpt2-base-v2\",\n",
        "  bos_token='</s>', eos_token='</s>', unk_token='<unk>',\n",
        "  pad_token='<pad>', mask_token='<mask>') \n",
        "model = AutoModelWithLMHead.from_pretrained(\"skt/kogpt2-base-v2\")\n"
      ]
    },
    {
      "cell_type": "code",
      "execution_count": null,
      "metadata": {
        "id": "U8hk6kp3gXTW"
      },
      "outputs": [],
      "source": [
        "#model input output tokenizer\n",
        "class TransformersTokenizer(Transform):\n",
        "   def __init__(self, tokenizer): self.tokenizer = tokenizer\n",
        "   def encodes(self, x): \n",
        "       toks = self.tokenizer.tokenize(x)\n",
        "       return tensor(self.tokenizer.convert_tokens_to_ids(toks))\n",
        "   def decodes(self, x): return TitledStr(self.tokenizer.decode(x.cpu().numpy()))\n"
      ]
    },
    {
      "cell_type": "code",
      "execution_count": null,
      "metadata": {
        "id": "RkQe4P_EtyiJ"
      },
      "outputs": [],
      "source": [
        "#데이터 tokenization\n",
        "#base_xl : 가사 데이터 위치 / lyrics_xlsx_list : 파일이름 리스트\n",
        "#xlsx 파일 오픈 , txt나 타 파일의 경우 , 또 다른 xlsx 파일의 경우 \n",
        "#코드 수정 필요\n",
        "\n",
        "#단어를 한 단어씩 띄어 lines에 모두 넣어주면 됨\n",
        "#lines= lines + \" \".join(ly_line.split())\n",
        "\n",
        "lyrics_xlsx_list = [\"9000D\",\"9000B\",\"0110D\",\"0110B\",\"1119B\",\"1119D\"]\n",
        "base_xl = \"/gdrive/My Drive/Colab Notebooks/corpus_data/\"\n",
        "\n",
        "lines = \"\"\n",
        "for k in lyrics_xlsx_list:\n",
        "  base_df_ly = pd.read_excel(base_xl+k+\".xlsx\", engine='openpyxl')\n",
        "\n",
        "  for i in base_df_ly.itertuples():\n",
        "    ly_line = i.lyrics\n",
        "    lines= lines + \" \".join(ly_line.split())\n",
        "  print(k)\n",
        "\n",
        "print(len(lines))\n",
        "\n",
        "#split data\n",
        "train=lines[:int(len(lines)*0.9)]\n",
        "test=lines[int(len(lines)*0.9):]\n",
        "splits = [[0],[1]]\n",
        "\n",
        "#init dataloader\n",
        "tls = TfmdLists([train,test], TransformersTokenizer(tokenizer), splits=splits, dl_type=LMDataLoader)\n",
        "batch,seq_len = 8,256\n",
        "dls = tls.dataloaders(bs=batch, seq_len=seq_len)\n",
        "\n",
        "#약 13분 소요"
      ]
    },
    {
      "cell_type": "code",
      "execution_count": null,
      "metadata": {
        "colab": {
          "base_uri": "https://localhost:8080/",
          "height": 585
        },
        "id": "ogNvoD-2uHx6",
        "outputId": "8fee9a4b-3682-429b-c405-5c35877c6494"
      },
      "outputs": [
        {
          "data": {
            "text/html": [
              "\n",
              "<style>\n",
              "    /* Turns off some styling */\n",
              "    progress {\n",
              "        /* gets rid of default border in Firefox and Opera. */\n",
              "        border: none;\n",
              "        /* Needs to be in here for Safari polyfill so background images work as expected. */\n",
              "        background-size: auto;\n",
              "    }\n",
              "    .progress-bar-interrupted, .progress-bar-interrupted::-webkit-progress-bar {\n",
              "        background: #F44336;\n",
              "    }\n",
              "</style>\n"
            ],
            "text/plain": [
              "<IPython.core.display.HTML object>"
            ]
          },
          "metadata": {},
          "output_type": "display_data"
        },
        {
          "data": {
            "text/html": [
              ""
            ],
            "text/plain": [
              "<IPython.core.display.HTML object>"
            ]
          },
          "metadata": {},
          "output_type": "display_data"
        },
        {
          "name": "stdout",
          "output_type": "stream",
          "text": [
            "SuggestedLRs(lr_min=0.010000000149011612, lr_steep=0.0831763744354248)\n"
          ]
        },
        {
          "data": {
            "text/html": [
              "\n",
              "<style>\n",
              "    /* Turns off some styling */\n",
              "    progress {\n",
              "        /* gets rid of default border in Firefox and Opera. */\n",
              "        border: none;\n",
              "        /* Needs to be in here for Safari polyfill so background images work as expected. */\n",
              "        background-size: auto;\n",
              "    }\n",
              "    .progress-bar-interrupted, .progress-bar-interrupted::-webkit-progress-bar {\n",
              "        background: #F44336;\n",
              "    }\n",
              "</style>\n"
            ],
            "text/plain": [
              "<IPython.core.display.HTML object>"
            ]
          },
          "metadata": {},
          "output_type": "display_data"
        },
        {
          "data": {
            "text/html": [
              "<table border=\"1\" class=\"dataframe\">\n",
              "  <thead>\n",
              "    <tr style=\"text-align: left;\">\n",
              "      <th>epoch</th>\n",
              "      <th>train_loss</th>\n",
              "      <th>valid_loss</th>\n",
              "      <th>perplexity</th>\n",
              "      <th>time</th>\n",
              "    </tr>\n",
              "  </thead>\n",
              "  <tbody>\n",
              "    <tr>\n",
              "      <td>0</td>\n",
              "      <td>4.914434</td>\n",
              "      <td>5.016362</td>\n",
              "      <td>150.861496</td>\n",
              "      <td>03:03</td>\n",
              "    </tr>\n",
              "  </tbody>\n",
              "</table>"
            ],
            "text/plain": [
              "<IPython.core.display.HTML object>"
            ]
          },
          "metadata": {},
          "output_type": "display_data"
        },
        {
          "data": {
            "text/html": [
              "\n",
              "<style>\n",
              "    /* Turns off some styling */\n",
              "    progress {\n",
              "        /* gets rid of default border in Firefox and Opera. */\n",
              "        border: none;\n",
              "        /* Needs to be in here for Safari polyfill so background images work as expected. */\n",
              "        background-size: auto;\n",
              "    }\n",
              "    .progress-bar-interrupted, .progress-bar-interrupted::-webkit-progress-bar {\n",
              "        background: #F44336;\n",
              "    }\n",
              "</style>\n"
            ],
            "text/plain": [
              "<IPython.core.display.HTML object>"
            ]
          },
          "metadata": {},
          "output_type": "display_data"
        },
        {
          "data": {
            "text/html": [
              "<table border=\"1\" class=\"dataframe\">\n",
              "  <thead>\n",
              "    <tr style=\"text-align: left;\">\n",
              "      <th>epoch</th>\n",
              "      <th>train_loss</th>\n",
              "      <th>valid_loss</th>\n",
              "      <th>perplexity</th>\n",
              "      <th>time</th>\n",
              "    </tr>\n",
              "  </thead>\n",
              "  <tbody>\n",
              "    <tr>\n",
              "      <td>0</td>\n",
              "      <td>3.824803</td>\n",
              "      <td>4.103664</td>\n",
              "      <td>60.561802</td>\n",
              "      <td>03:03</td>\n",
              "    </tr>\n",
              "    <tr>\n",
              "      <td>1</td>\n",
              "      <td>3.577798</td>\n",
              "      <td>3.893196</td>\n",
              "      <td>49.067436</td>\n",
              "      <td>03:02</td>\n",
              "    </tr>\n",
              "    <tr>\n",
              "      <td>2</td>\n",
              "      <td>3.138651</td>\n",
              "      <td>3.775068</td>\n",
              "      <td>43.600452</td>\n",
              "      <td>03:02</td>\n",
              "    </tr>\n",
              "    <tr>\n",
              "      <td>3</td>\n",
              "      <td>2.661606</td>\n",
              "      <td>3.767436</td>\n",
              "      <td>43.268970</td>\n",
              "      <td>03:02</td>\n",
              "    </tr>\n",
              "    <tr>\n",
              "      <td>4</td>\n",
              "      <td>2.148232</td>\n",
              "      <td>3.901993</td>\n",
              "      <td>49.501019</td>\n",
              "      <td>03:02</td>\n",
              "    </tr>\n",
              "    <tr>\n",
              "      <td>5</td>\n",
              "      <td>1.790505</td>\n",
              "      <td>4.043003</td>\n",
              "      <td>56.997253</td>\n",
              "      <td>03:02</td>\n",
              "    </tr>\n",
              "  </tbody>\n",
              "</table>"
            ],
            "text/plain": [
              "<IPython.core.display.HTML object>"
            ]
          },
          "metadata": {},
          "output_type": "display_data"
        },
        {
          "data": {
            "image/png": "[encoded data removed]",
            "text/plain": [
              "<Figure size 432x288 with 1 Axes>"
            ]
          },
          "metadata": {},
          "output_type": "display_data"
        }
      ],
      "source": [
        "#모델 구성 후 fine_tuning 진행\n",
        "#gpt2 ouput is tuple, we need just one val\n",
        "class DropOutput(Callback):\n",
        "  def after_pred(self): self.learn.pred = self.pred[0]\n",
        "      \n",
        "      \n",
        "learn = Learner(dls, model, loss_func=CrossEntropyLossFlat(), cbs=[DropOutput], metrics=Perplexity()).to_fp16()\n",
        "lr=learn.lr_find()\n",
        "print(lr)\n",
        "learn.fine_tune(6)\n",
        "\n",
        "#21분 소요"
      ]
    },
    {
      "cell_type": "code",
      "execution_count": null,
      "metadata": {
        "id": "JxsmtV0cxYFK"
      },
      "outputs": [],
      "source": [
        "#구성하고 학습한 모델을 저장 , 모델 경로에 주의\n",
        "torch.save(model, f'/gdrive/My Drive/Colab Notebooks/corpus_data/model.pt')"
      ]
    },
    {
      "cell_type": "markdown",
      "metadata": {
        "id": "r3Y6WoUnQ4rI"
      },
      "source": [
        "## Fine-Tuning 된 모델 사용"
      ]
    },
    {
      "cell_type": "code",
      "execution_count": null,
      "metadata": {
        "id": "heOWhvNAydwA"
      },
      "outputs": [],
      "source": [
        "#이미 학습된 모델 및 KoGPT2 tokenizer 불러오기\n",
        "\n",
        "#=============================================================================\n",
        "tokenizer = PreTrainedTokenizerFast.from_pretrained(\"skt/kogpt2-base-v2\",\n",
        "  bos_token='</s>', eos_token='</s>', unk_token='<unk>',\n",
        "  pad_token='<pad>', mask_token='<mask>')\n",
        "model = torch.load('/gdrive/My Drive/Colab Notebooks/corpus_data/model.pt',map_location=torch.device('cpu'))\n",
        "#============================================================================="
      ]
    },
    {
      "cell_type": "code",
      "execution_count": null,
      "metadata": {
        "id": "l5x_VfY6RVHK"
      },
      "outputs": [],
      "source": [
        "#make_line(키워드 혹은 가사 생성시 사용할 미끼가사 , 문장의 길이)\n",
        "#output = KoGPT2로 생성한 가사\n",
        "\n",
        "def make_line(rhyme_word,word_len):\n",
        "  prompt= rhyme_word\n",
        "  prompt_ids = tokenizer.encode(prompt)\n",
        "  inp = tensor(prompt_ids)[None]\n",
        "  preds = model.generate(inp,\n",
        "                           max_length=word_len,\n",
        "                           pad_token_id=tokenizer.pad_token_id,\n",
        "                           eos_token_id=tokenizer.eos_token_id,\n",
        "                           bos_token_id=tokenizer.bos_token_id,\n",
        "                           repetition_penalty=2.0,       \n",
        "                           use_cache=True\n",
        "                          ) \n",
        "  return tokenizer.decode(preds[0].cpu().numpy())"
      ]
    },
    {
      "cell_type": "code",
      "execution_count": null,
      "metadata": {
        "id": "mknVifgqUXKU"
      },
      "outputs": [],
      "source": [
        "def make_verse_seq(key_word,verse_maxlen,\n",
        "               max_rhyme_hit,min_rhyme_hit,min_level=0):\n",
        "  \n",
        "  base_sim = sim_after_rhyme(key_word,max_rhyme_hit,min_rhyme_hit,min_level)\n",
        "  base_sim = [[key_word]] + base_sim\n",
        "\n",
        "  use_word = []\n",
        "  verse = \"\"\n",
        "  verse_idx = 1\n",
        "\n",
        "  for i in base_sim:\n",
        "    if i[0] not in use_word:\n",
        "      ori_verse = verse\n",
        "      verse += (\" \" + i[0])\n",
        "      use_word.append(i[0])\n",
        "      print(\"now use_word... : \",use_word)\n",
        "      check = True\n",
        "\n",
        "      for p in range(len(verse)+1,verse_maxlen):\n",
        "        make = kss.split_sentences((make_line(verse,p)))\n",
        "        if len(make) > verse_idx:\n",
        "          verse = make_line(verse,p-1)\n",
        "          verse_idx += 1\n",
        "          check = False\n",
        "          break\n",
        "      \n",
        "      if check:\n",
        "        verse = ori_verse\n",
        "        use_word.pop(-1)\n",
        "\n",
        "  return verse\n",
        "\n"
      ]
    },
    {
      "cell_type": "code",
      "execution_count": null,
      "metadata": {
        "id": "gfYimsoXkHGo"
      },
      "outputs": [],
      "source": [
        "def make_verse_not_seq(key_word,verse_maxlen,one_verse_len,\n",
        "               max_rhyme_hit,min_rhyme_hit,min_level=0):\n",
        "  \n",
        "  base_sim = sim_after_rhyme(key_word,max_rhyme_hit,min_rhyme_hit,min_level)\n",
        "  base_sim = [[key_word]] + base_sim\n",
        "  print(base_sim)\n",
        "\n",
        "  use_word = []\n",
        "  check = 0\n",
        "  ori_verse =\"\"\n",
        "\n",
        "  for i in base_sim:\n",
        "    if i[0] not in use_word:\n",
        "      verse = i[0] + \" \"\n",
        "      use_word.append(i[0])\n",
        "      print(\"now use_words... : \",use_word)\n",
        "      check += 1\n",
        "\n",
        "      for p in range(len(verse)+1,one_verse_len):\n",
        "        make = kss.split_sentences((make_line(verse,p)))\n",
        "        if len(make) >= 2:\n",
        "          parsing_verse = make_line(verse,p-1)\n",
        "          ori_verse += (\" \" + parsing_verse)\n",
        "          print(parsing_verse)\n",
        "          break\n",
        "      \n",
        "      if check >= verse_maxlen:\n",
        "        break\n",
        "\n",
        "  print(ori_verse)\n",
        "  return ori_verse"
      ]
    },
    {
      "cell_type": "code",
      "execution_count": null,
      "metadata": {
        "id": "rseKLJdJqJnW"
      },
      "outputs": [],
      "source": [
        "def make_verse_choose(key_word,verse_maxlen,one_verse_max_len,\n",
        "               max_rhyme_hit,min_rhyme_hit,min_level=0):\n",
        "  \n",
        "  base_sim = sim_after_rhyme(key_word,max_rhyme_hit,min_rhyme_hit,min_level)\n",
        "  base_sim = [[key_word]] + base_sim\n",
        "\n",
        "  use_word = []\n",
        "  check = 0\n",
        "  ori_verse = []\n",
        "\n",
        "  for i in base_sim:\n",
        "    if i[0] not in use_word:\n",
        "      verse = i[0] + \" \"\n",
        "      use_word.append(i[0])\n",
        "      print(\"now using_words... : \",use_word)\n",
        "\n",
        "      for p in range(len(verse)+1,one_verse_max_len):\n",
        "        make = kss.split_sentences((make_line(verse,p)))\n",
        "        if len(make) >= 2 or p == one_verse_max_len-1:\n",
        "          parsing_verse = make_line(verse,p-1)\n",
        "\n",
        "          parsing_list = list(parsing_verse.split(\" \"))\n",
        "          parsing_len = len(parsing_list)\n",
        "          print(\"========================\")\n",
        "          print(\"현재가사 : \")\n",
        "          for gasa in ori_verse:\n",
        "            print(gasa)\n",
        "          print(\"========================\")\n",
        "          print(\"가장 적절한 가사 번호 선택, 마음에 들지 않으면 -1로 스킵\")\n",
        "          print(\"========================\")\n",
        "          for k in range(1,parsing_len+1):\n",
        "            result = ' '.join(s for s in parsing_list[0:k])\n",
        "            stdout.write(\"선택 %d : %s \\n\" % (k,result))\n",
        "          print(\"========================\")\n",
        "          cho = int(input())\n",
        "          if cho != -1:\n",
        "            ori_verse.append(' '.join(s for s in parsing_list[0:cho]))\n",
        "            stdout.flush()\n",
        "            check += 1\n",
        "          break\n",
        "      \n",
        "      if check >= verse_maxlen:\n",
        "        break\n",
        "\n",
        "  return ori_verse"
      ]
    },
    {
      "cell_type": "code",
      "execution_count": null,
      "metadata": {
        "id": "__pro1PX4K5E"
      },
      "outputs": [],
      "source": [
        "def make_verse_choose_without_word2vec(\n",
        "    key_word,verse_maxlen,one_verse_max_len,\n",
        "    max_rhyme_hit,min_rhyme_hit,min_level=0):\n",
        "  \n",
        "  a,b,c = score_rank(key_word,max_rhyme_hit,min_rhyme_hit)\n",
        "  base_sim =  a + b + c\n",
        "  base_sim.sort(key=lambda x : x[1],reverse=True)\n",
        "  base_sim = [[key_word]] + base_sim\n",
        "\n",
        "  use_word = []\n",
        "  check = 0\n",
        "  ori_verse = []\n",
        "\n",
        "  for i in base_sim:\n",
        "    if i[0] not in use_word:\n",
        "      verse = i[0] + \" \"\n",
        "      use_word.append(i[0])\n",
        "      print(\"now using_words... : \",use_word)\n",
        "\n",
        "      for p in range(len(verse)+1,one_verse_max_len):\n",
        "        make = kss.split_sentences((make_line(verse,p)))\n",
        "        if len(make) >= 2 or p == one_verse_max_len-1:\n",
        "          parsing_verse = make_line(verse,p-1)\n",
        "\n",
        "          parsing_list = list(parsing_verse.split(\" \"))\n",
        "          parsing_len = len(parsing_list)\n",
        "          print(\"========================\")\n",
        "          print(\"현재가사 : \")\n",
        "          for gasa in ori_verse:\n",
        "            print(gasa)\n",
        "          print(\"========================\")\n",
        "          print(\"가장 적절한 가사 번호 선택, 마음에 들지 않으면 -1로 스킵\")\n",
        "          print(\"========================\")\n",
        "          for k in range(1,parsing_len+1):\n",
        "            result = ' '.join(s for s in parsing_list[0:k])\n",
        "            stdout.write(\"선택 %d : %s \\n\" % (k,result))\n",
        "          print(\"========================\")\n",
        "          cho = int(input())\n",
        "          if cho != -1:\n",
        "            ori_verse.append(' '.join(s for s in parsing_list[0:cho]))\n",
        "            stdout.flush()\n",
        "            check += 1\n",
        "          break\n",
        "      \n",
        "      if check >= verse_maxlen:\n",
        "        break\n",
        "\n",
        "  return ori_verse"
      ]
    },
    {
      "cell_type": "code",
      "execution_count": null,
      "metadata": {
        "id": "1j1HOn5czcqZ"
      },
      "outputs": [],
      "source": [
        "#=============================================================================\n",
        "#모든 쉘 실행 후 Colab or jupyter notebook 상에서 사용\n",
        "#=============================================================================\n",
        "\n",
        "#함수 설명\n",
        "\n",
        "#make_line(rhyme_word,word_len)\n",
        "  #rhyme_word : 키워드 혹은 가사 생성시 사용할 미끼가사\n",
        "  #word_len : 전체 가사의 길이\n",
        "\n",
        "  #output : 라임을 고려하지 않은 일반적인 가사\n",
        "\n",
        "#make_verse_seq(key_word,verse_maxlen,\n",
        "               #max_rhyme_hit,min_rhyme_hit,min_level=0)\n",
        "  #key_word : 가사에 처음으로 사용할 단어\n",
        "  #verse_maxlen : 전체 가사의 길이\n",
        "  #max_rhyme_hit : 사용할 단어들의 최대 라임 HIT\n",
        "  #min_rhyme_hit : 사용할 단어들의 최소 라임 HIT\n",
        "  #min_level=0 : 사용할 단어들의 word2vec 최소 유사도 ( 미만이면 사용 X )\n",
        "\n",
        "  #시퀀스로 가사를 생성하는 방식\n",
        "  #한단어로 가사를 만들고 그 위에 덮어 씌우는 방식\n",
        "\n",
        "#make_verse_not_seq(key_word,verse_maxlen,one_verse_len,\n",
        "               #max_rhyme_hit,min_rhyme_hit,min_level=0)\n",
        "  #key_word : 가사에 처음으로 사용할 단어\n",
        "  #verse_maxlen : 전체 가사의 줄의 개수\n",
        "  #one_verse_len : 허용할 가사 한줄의 최대 길이\n",
        "  #max_rhyme_hit : 사용할 단어들의 최대 라임 HIT\n",
        "  #min_rhyme_hit : 사용할 단어들의 최소 라임 HIT\n",
        "  #min_level=0 : 사용할 단어들의 word2vec 최소 유사도 ( 미만이면 사용 X )\n",
        "\n",
        "  #여러 단어들을 통해 가사를 각각 한 줄씩 만들고\n",
        "  #이후 합치는 방법으로 진행\n",
        "\n",
        "# make_verse_choose_without_word2vec(\n",
        "    #key_word,verse_maxlen,one_verse_max_len,\n",
        "    #max_rhyme_hit,min_rhyme_hit,min_level=0)\n",
        "\n",
        "  #key_word : 가사에 처음으로 사용할 단어\n",
        "  #verse_maxlen : 전체 가사의 줄의 개수\n",
        "  #one_verse_len : 허용할 가사 한줄의 최대 길이\n",
        "  #max_rhyme_hit : 사용할 단어들의 최대 라임 HIT\n",
        "  #min_rhyme_hit : 사용할 단어들의 최소 라임 HIT\n",
        "  #min_level=0 : 사용할 단어들의 word2vec 최소 유사도 ( 미만이면 사용 X )\n",
        "\n",
        "  #가사 생성은 모델이 진행하지만 , 선택은 사람이 할 수 있음\n",
        "  #인공지능이 생성한 여러가지 가사들 중 사용자가 원하는 가사를 선택\n",
        "  #한줄 한줄 이어나가 최종적인 가사 전체를 구성\n",
        "\n",
        "#============================================================================="
      ]
    }
  ],
  "metadata": {
    "accelerator": "GPU",
    "colab": {
      "collapsed_sections": [],
      "name": "rhyme_corpus.ipynb",
      "provenance": []
    },
    "kernelspec": {
      "display_name": "Python 3",
      "name": "python3"
    },
    "language_info": {
      "name": "python"
    }
  },
  "nbformat": 4,
  "nbformat_minor": 0
}