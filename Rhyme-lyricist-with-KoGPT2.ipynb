{
  "nbformat": 4,
  "nbformat_minor": 0,
  "metadata": {
    "colab": {
      "name": "rhyme_corpus.ipynb",
      "provenance": [],
      "collapsed_sections": []
    },
    "kernelspec": {
      "name": "python3",
      "display_name": "Python 3"
    },
    "language_info": {
      "name": "python"
    },
    "accelerator": "GPU"
  },
  "cells": [
    {
      "cell_type": "markdown",
      "source": [
        "# 라임 기반의 작사 모델 - 라임 스코어"
      ],
      "metadata": {
        "id": "wTBvGcuVjaqB"
      }
    },
    {
      "cell_type": "markdown",
      "source": [
        "사용한 라이브러리와 오픈소스\n",
        "\n",
        "1. hgtk : https://github.com/bluedisk/hangul-toolkit\n",
        "2. googletrans : https://github.com/ssut/py-googletrans\n",
        "3. request : https://github.com/psf/requests\n",
        "4. 엑셀 오픈 모듈 openpyxl : https://openpyxl.readthedocs.io/en/stable/\n",
        "5. 데이터 프레임 라이브러리 pandas : https://pandas.pydata.org/\n",
        "6. 영어 => 한글발음 : \"https://transliterator.herokuapp.com/\"\n",
        "7. 한국어 word2vec : https://github.com/Kyubyong/wordvectors"
      ],
      "metadata": {
        "id": "hG3SkxFeRMdN"
      }
    },
    {
      "cell_type": "code",
      "execution_count": 1,
      "metadata": {
        "id": "K5oAF_2yXuUv",
        "colab": {
          "base_uri": "https://localhost:8080/"
        },
        "outputId": "9cf1d0d0-36ee-46b5-8ece-0f58def898a4"
      },
      "outputs": [
        {
          "output_type": "stream",
          "name": "stdout",
          "text": [
            "Mounted at /gdrive\n"
          ]
        }
      ],
      "source": [
        "#환경이 google colab인 경우\n",
        "from google.colab import drive\n",
        "drive.mount('/gdrive', force_remount= True)"
      ]
    },
    {
      "cell_type": "code",
      "source": [
        "!pip install -r requirements.txt"
      ],
      "metadata": {
        "id": "8qq3y2NrKqcK",
        "colab": {
          "base_uri": "https://localhost:8080/"
        },
        "outputId": "0b603d1a-f9d6-4c04-8b8b-bfdc708870d7"
      },
      "execution_count": 4,
      "outputs": [
        {
          "output_type": "stream",
          "name": "stdout",
          "text": [
            "Looking in indexes: https://pypi.org/simple, https://us-python.pkg.dev/colab-wheels/public/simple/\n",
            "Collecting googletrans==4.0.0rc1\n",
            "  Downloading googletrans-4.0.0rc1.tar.gz (20 kB)\n",
            "Collecting hgtk==0.1.3\n",
            "  Downloading hgtk-0.1.3.tar.gz (6.2 kB)\n",
            "Collecting transformers==4.19.2\n",
            "  Downloading transformers-4.19.2-py3-none-any.whl (4.2 MB)\n",
            "\u001b[K     |████████████████████████████████| 4.2 MB 41.4 MB/s \n",
            "\u001b[?25hCollecting fastai==2.2.5\n",
            "  Downloading fastai-2.2.5-py3-none-any.whl (191 kB)\n",
            "\u001b[K     |████████████████████████████████| 191 kB 60.6 MB/s \n",
            "\u001b[?25hCollecting kss==3.4.2\n",
            "  Downloading kss-3.4.2.tar.gz (42.4 MB)\n",
            "\u001b[K     |████████████████████████████████| 42.4 MB 73.1 MB/s \n",
            "\u001b[?25hCollecting httpx==0.13.3\n",
            "  Downloading httpx-0.13.3-py3-none-any.whl (55 kB)\n",
            "\u001b[K     |████████████████████████████████| 55 kB 3.7 MB/s \n",
            "\u001b[?25hRequirement already satisfied: regex!=2019.12.17 in /usr/local/lib/python3.7/dist-packages (from transformers==4.19.2->-r requirements.txt (line 3)) (2019.12.20)\n",
            "Collecting tokenizers!=0.11.3,<0.13,>=0.11.1\n",
            "  Downloading tokenizers-0.12.1-cp37-cp37m-manylinux_2_12_x86_64.manylinux2010_x86_64.whl (6.6 MB)\n",
            "\u001b[K     |████████████████████████████████| 6.6 MB 41.9 MB/s \n",
            "\u001b[?25hRequirement already satisfied: tqdm>=4.27 in /usr/local/lib/python3.7/dist-packages (from transformers==4.19.2->-r requirements.txt (line 3)) (4.64.0)\n",
            "Collecting pyyaml>=5.1\n",
            "  Downloading PyYAML-6.0-cp37-cp37m-manylinux_2_5_x86_64.manylinux1_x86_64.manylinux_2_12_x86_64.manylinux2010_x86_64.whl (596 kB)\n",
            "\u001b[K     |████████████████████████████████| 596 kB 66.4 MB/s \n",
            "\u001b[?25hRequirement already satisfied: importlib-metadata in /usr/local/lib/python3.7/dist-packages (from transformers==4.19.2->-r requirements.txt (line 3)) (4.11.3)\n",
            "Requirement already satisfied: numpy>=1.17 in /usr/local/lib/python3.7/dist-packages (from transformers==4.19.2->-r requirements.txt (line 3)) (1.21.6)\n",
            "Collecting huggingface-hub<1.0,>=0.1.0\n",
            "  Downloading huggingface_hub-0.7.0-py3-none-any.whl (86 kB)\n",
            "\u001b[K     |████████████████████████████████| 86 kB 4.2 MB/s \n",
            "\u001b[?25hRequirement already satisfied: packaging>=20.0 in /usr/local/lib/python3.7/dist-packages (from transformers==4.19.2->-r requirements.txt (line 3)) (21.3)\n",
            "Requirement already satisfied: requests in /usr/local/lib/python3.7/dist-packages (from transformers==4.19.2->-r requirements.txt (line 3)) (2.23.0)\n",
            "Requirement already satisfied: filelock in /usr/local/lib/python3.7/dist-packages (from transformers==4.19.2->-r requirements.txt (line 3)) (3.7.0)\n",
            "Collecting torchvision<0.9,>=0.8\n",
            "  Downloading torchvision-0.8.2-cp37-cp37m-manylinux1_x86_64.whl (12.8 MB)\n",
            "\u001b[K     |████████████████████████████████| 12.8 MB 59.7 MB/s \n",
            "\u001b[?25hRequirement already satisfied: pillow>6.0.0 in /usr/local/lib/python3.7/dist-packages (from fastai==2.2.5->-r requirements.txt (line 4)) (7.1.2)\n",
            "Collecting fastcore<1.4,>=1.3.8\n",
            "  Downloading fastcore-1.3.29-py3-none-any.whl (55 kB)\n",
            "\u001b[K     |████████████████████████████████| 55 kB 4.2 MB/s \n",
            "\u001b[?25hCollecting torch<1.8,>=1.7.0\n",
            "  Downloading torch-1.7.1-cp37-cp37m-manylinux1_x86_64.whl (776.8 MB)\n",
            "\u001b[K     |████████████████████████████████| 776.8 MB 17 kB/s \n",
            "\u001b[?25hRequirement already satisfied: scipy in /usr/local/lib/python3.7/dist-packages (from fastai==2.2.5->-r requirements.txt (line 4)) (1.4.1)\n",
            "Requirement already satisfied: matplotlib in /usr/local/lib/python3.7/dist-packages (from fastai==2.2.5->-r requirements.txt (line 4)) (3.2.2)\n",
            "Requirement already satisfied: pandas in /usr/local/lib/python3.7/dist-packages (from fastai==2.2.5->-r requirements.txt (line 4)) (1.3.5)\n",
            "Requirement already satisfied: fastprogress>=0.2.4 in /usr/local/lib/python3.7/dist-packages (from fastai==2.2.5->-r requirements.txt (line 4)) (1.0.2)\n",
            "Requirement already satisfied: pip in /usr/local/lib/python3.7/dist-packages (from fastai==2.2.5->-r requirements.txt (line 4)) (21.1.3)\n",
            "Requirement already satisfied: spacy in /usr/local/lib/python3.7/dist-packages (from fastai==2.2.5->-r requirements.txt (line 4)) (2.2.4)\n",
            "Requirement already satisfied: scikit-learn in /usr/local/lib/python3.7/dist-packages (from fastai==2.2.5->-r requirements.txt (line 4)) (1.0.2)\n",
            "Collecting emoji\n",
            "  Downloading emoji-1.7.0.tar.gz (175 kB)\n",
            "\u001b[K     |████████████████████████████████| 175 kB 62.8 MB/s \n",
            "\u001b[?25hRequirement already satisfied: more_itertools in /usr/local/lib/python3.7/dist-packages (from kss==3.4.2->-r requirements.txt (line 5)) (8.13.0)\n",
            "Collecting rfc3986<2,>=1.3\n",
            "  Downloading rfc3986-1.5.0-py2.py3-none-any.whl (31 kB)\n",
            "Collecting sniffio\n",
            "  Downloading sniffio-1.2.0-py3-none-any.whl (10 kB)\n",
            "Requirement already satisfied: idna==2.* in /usr/local/lib/python3.7/dist-packages (from httpx==0.13.3->googletrans==4.0.0rc1->-r requirements.txt (line 1)) (2.10)\n",
            "Requirement already satisfied: certifi in /usr/local/lib/python3.7/dist-packages (from httpx==0.13.3->googletrans==4.0.0rc1->-r requirements.txt (line 1)) (2022.5.18.1)\n",
            "Collecting hstspreload\n",
            "  Downloading hstspreload-2021.12.1-py3-none-any.whl (1.3 MB)\n",
            "\u001b[K     |████████████████████████████████| 1.3 MB 44.5 MB/s \n",
            "\u001b[?25hCollecting httpcore==0.9.*\n",
            "  Downloading httpcore-0.9.1-py3-none-any.whl (42 kB)\n",
            "\u001b[K     |████████████████████████████████| 42 kB 1.4 MB/s \n",
            "\u001b[?25hRequirement already satisfied: chardet==3.* in /usr/local/lib/python3.7/dist-packages (from httpx==0.13.3->googletrans==4.0.0rc1->-r requirements.txt (line 1)) (3.0.4)\n",
            "Collecting h11<0.10,>=0.8\n",
            "  Downloading h11-0.9.0-py2.py3-none-any.whl (53 kB)\n",
            "\u001b[K     |████████████████████████████████| 53 kB 2.4 MB/s \n",
            "\u001b[?25hCollecting h2==3.*\n",
            "  Downloading h2-3.2.0-py2.py3-none-any.whl (65 kB)\n",
            "\u001b[K     |████████████████████████████████| 65 kB 3.6 MB/s \n",
            "\u001b[?25hCollecting hpack<4,>=3.0\n",
            "  Downloading hpack-3.0.0-py2.py3-none-any.whl (38 kB)\n",
            "Collecting hyperframe<6,>=5.2.0\n",
            "  Downloading hyperframe-5.2.0-py2.py3-none-any.whl (12 kB)\n",
            "Requirement already satisfied: typing-extensions>=3.7.4.3 in /usr/local/lib/python3.7/dist-packages (from huggingface-hub<1.0,>=0.1.0->transformers==4.19.2->-r requirements.txt (line 3)) (4.2.0)\n",
            "Requirement already satisfied: pyparsing!=3.0.5,>=2.0.2 in /usr/local/lib/python3.7/dist-packages (from packaging>=20.0->transformers==4.19.2->-r requirements.txt (line 3)) (3.0.9)\n",
            "Requirement already satisfied: zipp>=0.5 in /usr/local/lib/python3.7/dist-packages (from importlib-metadata->transformers==4.19.2->-r requirements.txt (line 3)) (3.8.0)\n",
            "Requirement already satisfied: cycler>=0.10 in /usr/local/lib/python3.7/dist-packages (from matplotlib->fastai==2.2.5->-r requirements.txt (line 4)) (0.11.0)\n",
            "Requirement already satisfied: kiwisolver>=1.0.1 in /usr/local/lib/python3.7/dist-packages (from matplotlib->fastai==2.2.5->-r requirements.txt (line 4)) (1.4.2)\n",
            "Requirement already satisfied: python-dateutil>=2.1 in /usr/local/lib/python3.7/dist-packages (from matplotlib->fastai==2.2.5->-r requirements.txt (line 4)) (2.8.2)\n",
            "Requirement already satisfied: six>=1.5 in /usr/local/lib/python3.7/dist-packages (from python-dateutil>=2.1->matplotlib->fastai==2.2.5->-r requirements.txt (line 4)) (1.15.0)\n",
            "Requirement already satisfied: pytz>=2017.3 in /usr/local/lib/python3.7/dist-packages (from pandas->fastai==2.2.5->-r requirements.txt (line 4)) (2022.1)\n",
            "Requirement already satisfied: urllib3!=1.25.0,!=1.25.1,<1.26,>=1.21.1 in /usr/local/lib/python3.7/dist-packages (from requests->transformers==4.19.2->-r requirements.txt (line 3)) (1.24.3)\n",
            "Requirement already satisfied: joblib>=0.11 in /usr/local/lib/python3.7/dist-packages (from scikit-learn->fastai==2.2.5->-r requirements.txt (line 4)) (1.1.0)\n",
            "Requirement already satisfied: threadpoolctl>=2.0.0 in /usr/local/lib/python3.7/dist-packages (from scikit-learn->fastai==2.2.5->-r requirements.txt (line 4)) (3.1.0)\n",
            "Requirement already satisfied: thinc==7.4.0 in /usr/local/lib/python3.7/dist-packages (from spacy->fastai==2.2.5->-r requirements.txt (line 4)) (7.4.0)\n",
            "Requirement already satisfied: wasabi<1.1.0,>=0.4.0 in /usr/local/lib/python3.7/dist-packages (from spacy->fastai==2.2.5->-r requirements.txt (line 4)) (0.9.1)\n",
            "Requirement already satisfied: srsly<1.1.0,>=1.0.2 in /usr/local/lib/python3.7/dist-packages (from spacy->fastai==2.2.5->-r requirements.txt (line 4)) (1.0.5)\n",
            "Requirement already satisfied: catalogue<1.1.0,>=0.0.7 in /usr/local/lib/python3.7/dist-packages (from spacy->fastai==2.2.5->-r requirements.txt (line 4)) (1.0.0)\n",
            "Requirement already satisfied: cymem<2.1.0,>=2.0.2 in /usr/local/lib/python3.7/dist-packages (from spacy->fastai==2.2.5->-r requirements.txt (line 4)) (2.0.6)\n",
            "Requirement already satisfied: blis<0.5.0,>=0.4.0 in /usr/local/lib/python3.7/dist-packages (from spacy->fastai==2.2.5->-r requirements.txt (line 4)) (0.4.1)\n",
            "Requirement already satisfied: plac<1.2.0,>=0.9.6 in /usr/local/lib/python3.7/dist-packages (from spacy->fastai==2.2.5->-r requirements.txt (line 4)) (1.1.3)\n",
            "Requirement already satisfied: setuptools in /usr/local/lib/python3.7/dist-packages (from spacy->fastai==2.2.5->-r requirements.txt (line 4)) (57.4.0)\n",
            "Requirement already satisfied: murmurhash<1.1.0,>=0.28.0 in /usr/local/lib/python3.7/dist-packages (from spacy->fastai==2.2.5->-r requirements.txt (line 4)) (1.0.7)\n",
            "Requirement already satisfied: preshed<3.1.0,>=3.0.2 in /usr/local/lib/python3.7/dist-packages (from spacy->fastai==2.2.5->-r requirements.txt (line 4)) (3.0.6)\n",
            "Building wheels for collected packages: googletrans, hgtk, kss, emoji\n",
            "  Building wheel for googletrans (setup.py) ... \u001b[?25l\u001b[?25hdone\n",
            "  Created wheel for googletrans: filename=googletrans-4.0.0rc1-py3-none-any.whl size=17416 sha256=4d0e07c09d007303568e48be4d60a62c1d29ae5e7086c475c261ce90bbd453bb\n",
            "  Stored in directory: /root/.cache/pip/wheels/43/34/00/4fe71786ea6d12314b29037620c36d857e5d104ac2748bf82a\n",
            "  Building wheel for hgtk (setup.py) ... \u001b[?25l\u001b[?25hdone\n",
            "  Created wheel for hgtk: filename=hgtk-0.1.3-py2.py3-none-any.whl size=6689 sha256=8f3f4eb963669fe17c242e2d4ffdb47559c9ce96b16a51ef5353bd18a00eef95\n",
            "  Stored in directory: /root/.cache/pip/wheels/a6/e9/bc/524beb5222b11aa439a23a07be5bd8a559d266153103c37979\n",
            "  Building wheel for kss (setup.py) ... \u001b[?25l\u001b[?25hdone\n",
            "  Created wheel for kss: filename=kss-3.4.2-py3-none-any.whl size=42448069 sha256=18c695155fd6a5efe3def9c8b0086b43433c0f7c5ad61780271398e558309f5e\n",
            "  Stored in directory: /root/.cache/pip/wheels/ef/22/aa/6399b60516a067ec97fa6599fb2d472aeb25e3f9ee6dae3224\n",
            "  Building wheel for emoji (setup.py) ... \u001b[?25l\u001b[?25hdone\n",
            "  Created wheel for emoji: filename=emoji-1.7.0-py3-none-any.whl size=171046 sha256=1cdc66600072da4593e142f3e47837c220a8372443033aad24bc9d0287be4ace\n",
            "  Stored in directory: /root/.cache/pip/wheels/8a/4e/b6/57b01db010d17ef6ea9b40300af725ef3e210cb1acfb7ac8b6\n",
            "Successfully built googletrans hgtk kss emoji\n",
            "Installing collected packages: hyperframe, hpack, sniffio, h2, h11, torch, rfc3986, pyyaml, httpcore, hstspreload, torchvision, tokenizers, huggingface-hub, httpx, fastcore, emoji, transformers, kss, hgtk, googletrans, fastai\n",
            "  Attempting uninstall: torch\n",
            "    Found existing installation: torch 1.11.0+cu113\n",
            "    Uninstalling torch-1.11.0+cu113:\n",
            "      Successfully uninstalled torch-1.11.0+cu113\n",
            "  Attempting uninstall: pyyaml\n",
            "    Found existing installation: PyYAML 3.13\n",
            "    Uninstalling PyYAML-3.13:\n",
            "      Successfully uninstalled PyYAML-3.13\n",
            "  Attempting uninstall: torchvision\n",
            "    Found existing installation: torchvision 0.12.0+cu113\n",
            "    Uninstalling torchvision-0.12.0+cu113:\n",
            "      Successfully uninstalled torchvision-0.12.0+cu113\n",
            "  Attempting uninstall: fastai\n",
            "    Found existing installation: fastai 1.0.61\n",
            "    Uninstalling fastai-1.0.61:\n",
            "      Successfully uninstalled fastai-1.0.61\n",
            "\u001b[31mERROR: pip's dependency resolver does not currently take into account all the packages that are installed. This behaviour is the source of the following dependency conflicts.\n",
            "torchtext 0.12.0 requires torch==1.11.0, but you have torch 1.7.1 which is incompatible.\n",
            "torchaudio 0.11.0+cu113 requires torch==1.11.0, but you have torch 1.7.1 which is incompatible.\u001b[0m\n",
            "Successfully installed emoji-1.7.0 fastai-2.2.5 fastcore-1.3.29 googletrans-4.0.0rc1 h11-0.9.0 h2-3.2.0 hgtk-0.1.3 hpack-3.0.0 hstspreload-2021.12.1 httpcore-0.9.1 httpx-0.13.3 huggingface-hub-0.7.0 hyperframe-5.2.0 kss-3.4.2 pyyaml-6.0 rfc3986-1.5.0 sniffio-1.2.0 tokenizers-0.12.1 torch-1.7.1 torchvision-0.8.2 transformers-4.19.2\n"
          ]
        }
      ]
    },
    {
      "cell_type": "code",
      "source": [
        "#필요한 라이브러리 로드\n",
        "\n",
        "from collections import Counter\n",
        "import pandas as pd\n",
        "import re\n",
        "import openpyxl\n",
        "import requests \n",
        "import googletrans\n",
        "import hgtk\n",
        "import gensim\n",
        "from sys import stdout"
      ],
      "metadata": {
        "id": "UtpPO_5tgSc2"
      },
      "execution_count": 5,
      "outputs": []
    },
    {
      "cell_type": "code",
      "source": [
        "#라임 스코어링에 사용할 단어 로드\n",
        "#( 자주 사용되는 기본 단어 목록 + 사용할 가사 데이터)\n",
        "\n",
        "#lyrics\n",
        "#사용할 데이터 경로 지정\n",
        "\n",
        "#=============================================================================\n",
        "base = \"/gdrive/My Drive/Colab Notebooks/corpus_data/corpus.xlsx\"\n",
        "lyrics = \"/gdrive/My Drive/Colab Notebooks/corpus_data/hiphop.txt\"\n",
        "\n",
        "lyrics_xlsx_list = [\"9000D\",\"9000B\",\"0110D\",\"0110B\",\"1119B\",\"1119D\"]\n",
        "#=============================================================================\n",
        "\n",
        "base_df = pd.read_excel(base, engine='openpyxl')\n",
        "\n",
        "#기본단어 , 가사중 kor , 가사중 eng\n",
        "base_word = []\n",
        "lyric_word_kor = []\n",
        "lyric_word_eng = []\n",
        "\n",
        "for i in base_df.itertuples():\n",
        "   x = re.sub('[^A-Za-z가-힣]', '', i.단어)\n",
        "   base_word.append(x)\n",
        "\n",
        "lydata = open(lyrics, \"r\", encoding='euc-kr').read().splitlines()\n",
        "for i in lydata:\n",
        "  split_word = list(i.split(\" \"))\n",
        "  for word in split_word:\n",
        "    if word.upper() != word.lower():\n",
        "      word = re.sub('[^A-Za-z]', '', word)\n",
        "      lyric_word_eng.append(word)\n",
        "    else:\n",
        "      word = re.sub('[^가-힣]', '', word)\n",
        "      lyric_word_kor.append(word)\n",
        "\n",
        "lyric_word_kor = list(set(lyric_word_kor))\n",
        "lyric_word_eng = list(set(lyric_word_eng))\n",
        "\n",
        "print(len(lyric_word_kor))\n",
        "print(len(lyric_word_eng))\n"
      ],
      "metadata": {
        "colab": {
          "base_uri": "https://localhost:8080/"
        },
        "id": "r_Q60ojZitX6",
        "outputId": "e03d30f3-f4dc-46a5-8760-4395ad23cc88"
      },
      "execution_count": 6,
      "outputs": [
        {
          "output_type": "stream",
          "name": "stdout",
          "text": [
            "4896\n",
            "898\n"
          ]
        }
      ]
    },
    {
      "cell_type": "code",
      "source": [
        "#=============================================================================\n",
        "\n",
        "lyrics_xlsx_list = [\"9000D\",\"9000B\",\"0110D\",\"0110B\",\"1119B\",\"1119D\"]\n",
        "base_xl = \"/gdrive/My Drive/Colab Notebooks/corpus_data/\"\n",
        "\n",
        "#=============================================================================\n",
        "\n",
        "lines = \"\"\n",
        "for k in lyrics_xlsx_list:\n",
        "  base_df_ly = pd.read_excel(base_xl+k+\".xlsx\", engine='openpyxl')\n",
        "\n",
        "  for i in base_df_ly.itertuples():\n",
        "    ly_line = i.lyrics\n",
        "    for word in ly_line.split(\" \"):\n",
        "      if word.upper() != word.lower():\n",
        "        word = re.sub('[^A-Za-z]', '', word)\n",
        "        lyric_word_eng.append(word)\n",
        "      else:\n",
        "        word = re.sub('[^가-힣]', '', word)\n",
        "        lyric_word_kor.append(word)\n",
        "\n",
        "lyric_word_kor = list(set(lyric_word_kor))\n",
        "lyric_word_eng = list(set(lyric_word_eng))\n",
        "\n",
        "print(len(lyric_word_kor))\n",
        "print(len(lyric_word_eng))\n",
        "lyric_word_eng_to_kor = {}"
      ],
      "metadata": {
        "colab": {
          "base_uri": "https://localhost:8080/"
        },
        "id": "nrsMQuUbW_mf",
        "outputId": "051ef382-0a0f-4b73-9c1a-42d7d5d0c0ba"
      },
      "execution_count": 7,
      "outputs": [
        {
          "output_type": "stream",
          "name": "stdout",
          "text": [
            "57769\n",
            "6440\n"
          ]
        }
      ]
    },
    {
      "cell_type": "code",
      "source": [
        "#영어를 한글 발음으로 변환해주는 사이트를 이용\n",
        "#영문 단어들에 대한 라임을 고려하기 위해 한글발음으로 변환\n",
        "\n",
        "#영문단어를 사용하지 않는다면 실행 X\n",
        "\n",
        "lyric_word_eng_to_kor = {}\n",
        "translator = googletrans.Translator()\n",
        "\n",
        "url = \"https://transliterator.herokuapp.com/\"\n",
        "sess = requests.Session()\n",
        "\n",
        "all = len(lyric_word_eng)\n",
        "idx = 0\n",
        "\n",
        "for i in lyric_word_eng:\n",
        "  payload = {'input': i}\n",
        "  res = sess.post(url, data = payload)\n",
        "  change_kor = res.json()['output'].replace('?',' ')\n",
        "  \n",
        "  result = translator.translate(i, dest='ko')\n",
        "\n",
        "  lyric_word_eng_to_kor[i] = [change_kor,result.text]\n",
        "  \n",
        "  progress = 100*(idx+1)/all\n",
        "  stdout.write(\"\\r ===== %d%% completed =====\" % progress)\n",
        "  stdout.flush()\n",
        "  idx += 1\n",
        "stdout.write(\"\\n\")\n",
        "\n",
        "#딕셔너리에 영어단어 : [발음 , 의미] 로 mapping\n",
        "print(lyric_word_eng_to_kor)\n",
        "\n"
      ],
      "metadata": {
        "id": "YE3gRuLpy7-K"
      },
      "execution_count": null,
      "outputs": []
    },
    {
      "cell_type": "code",
      "source": [
        "#두 단어 사이의 hit을 매기는 함수 \n",
        "#라임의 경우 모음에 치중한 경우가 많아 모음에 hit score를 더줌\n",
        "#모음이 같은 경우 : +2 / 자음이 같은 경우 +1\n",
        "\n",
        "def rhyme_score(word1, word2):\n",
        "  if len(word1) > len(word2):\n",
        "    swap = word1\n",
        "    word1 = word2\n",
        "    word2 = swap\n",
        "\n",
        "  w1_slice = []\n",
        "  w2_every = []\n",
        "  for i in word1:\n",
        "    a = hgtk.letter.decompose(i)\n",
        "    w1_slice.append(a)\n",
        "\n",
        "  for i in range(0,len(word2)-len(word1)+1):\n",
        "    w2 = word2[i:i+len(word1)]\n",
        "    w2_slice = []\n",
        "    for k in w2:\n",
        "      a = hgtk.letter.decompose(k)\n",
        "      w2_slice.append(a)\n",
        "    w2_every.append(w2_slice)\n",
        "\n",
        "  max_hit = 0\n",
        "  for idx in w2_every:\n",
        "    hit = 0\n",
        "    for i in range(len(w1_slice)):\n",
        "      for k in range(3):\n",
        "        if w1_slice[i][k] != \"\" and idx[i][k] != \"\":\n",
        "          if w1_slice[i][k] == idx[i][k]:\n",
        "            if k == 1:\n",
        "              hit += 2\n",
        "            else:\n",
        "              hit += 1\n",
        "    if hit > max_hit:\n",
        "      max_hit = hit\n",
        "\n",
        "  return max_hit\n"
      ],
      "metadata": {
        "id": "QQ0Vp1GW07iu"
      },
      "execution_count": 8,
      "outputs": []
    },
    {
      "cell_type": "code",
      "source": [
        "#base 단어에 대한 score 예시\n",
        "\n",
        "def score_rank(key_word,max_hit_times,min_hit_times):\n",
        "  base_score = [] #기본 단어 스코어\n",
        "  lyric_score = [] #가사 단어 스코어\n",
        "  lyric_eng_score = [] #영단어 스코어\n",
        "\n",
        "  for i in base_word:\n",
        "    base_score.append([i,rhyme_score(key_word,i)])\n",
        "\n",
        "  for i in lyric_word_kor:\n",
        "    lyric_score.append([i,rhyme_score(key_word,i)])\n",
        "\n",
        "  for i in lyric_word_eng_to_kor.keys():\n",
        "    kors = lyric_word_eng_to_kor[i]\n",
        "    lyric_eng_score.append([i,rhyme_score(key_word,kors[0])])\n",
        "\n",
        "  base_score = [i for i in base_score if max_hit_times >= i[1] >= min_hit_times]\n",
        "  lyric_score = [i for i in lyric_score if max_hit_times >= i[1] >= min_hit_times]\n",
        "  lyric_eng_score = [i for i in lyric_eng_score if max_hit_times >= i[1] >= min_hit_times]\n",
        "\n",
        "  base_score.sort(key=lambda x : x[1],reverse=True)\n",
        "  lyric_score.sort(key=lambda x : x[1],reverse=True)\n",
        "  lyric_eng_score.sort(key=lambda x : x[1],reverse=True)\n",
        "\n",
        "  return base_score , lyric_score , lyric_eng_score"
      ],
      "metadata": {
        "id": "Z5z4JCtoHt0Z"
      },
      "execution_count": 9,
      "outputs": []
    },
    {
      "cell_type": "code",
      "source": [
        "#=============================================================================\n",
        "\n",
        "word2vec_model = gensim.models.Word2Vec.load(\"/gdrive/My Drive/Colab Notebooks/corpus_data/ko/ko.bin\")\n",
        "\n",
        "#============================================================================="
      ],
      "metadata": {
        "id": "Z-qg1l76Hk56"
      },
      "execution_count": 10,
      "outputs": []
    },
    {
      "cell_type": "code",
      "source": [
        "def similar(word_1 , word_2):\n",
        "  try:\n",
        "\t  return (word2vec_model.wv.similarity(word_1,word_2))\n",
        "  except:\n",
        "\t  return -1"
      ],
      "metadata": {
        "id": "vFXBFhe0MxOK"
      },
      "execution_count": 11,
      "outputs": []
    },
    {
      "cell_type": "code",
      "source": [
        "def sim_after_rhyme(key_word,max_hit_times,min_hit_times,min_level = 0):\n",
        "  a,b,c = score_rank(key_word,max_hit_times,min_hit_times)\n",
        "\n",
        "  base_sim = []\n",
        "\n",
        "  for i in a:\n",
        "    level = similar(key_word,i[0])\n",
        "    if level > min_level:\n",
        "      base_sim.append([i[0],i[1],level])\n",
        "\n",
        "  for i in b:\n",
        "    level = similar(key_word,i[0])\n",
        "    if level > min_level:\n",
        "      base_sim.append([i[0],i[1],level])\n",
        "\n",
        "  for i in c:\n",
        "    op = lyric_word_eng_to_kor[i[0]]\n",
        "    level = similar(key_word,op[1])\n",
        "    if level > min_level:\n",
        "      base_sim.append([i[0],i[1],level])\n",
        "  \n",
        "  base_sim.sort(key=lambda x : x[2],reverse=True)\n",
        "\n",
        "  return base_sim "
      ],
      "metadata": {
        "id": "kjpeDMaBO1Fy"
      },
      "execution_count": 12,
      "outputs": []
    },
    {
      "cell_type": "markdown",
      "source": [
        "# 작사 모델 - KoGPT2\n"
      ],
      "metadata": {
        "id": "eHEEWXM4rISB"
      }
    },
    {
      "cell_type": "markdown",
      "source": [
        "사용 라이브러리와 오픈소스\n",
        "\n",
        "1. 파이토치 : https://pytorch.kr/\n",
        "2. koGPT2 : https://github.com/SKT-AI/KoGPT2\n",
        "3. fastai : https://github.com/fastai/fastai\n",
        "4. transformers : https://github.com/huggingface/transformers\n",
        "5. 한국어 글 문장 분리기 kss : https://github.com/hyunwoongko/kss"
      ],
      "metadata": {
        "id": "znczc0khrT5I"
      }
    },
    {
      "cell_type": "code",
      "source": [
        "from typing import Optional\n",
        "import torch\n",
        "import transformers\n",
        "from transformers import AutoModelWithLMHead, PreTrainedTokenizerFast\n",
        "from fastai.text.all import *\n",
        "import fastai\n",
        "import re\n",
        "from transformers import GPT2LMHeadModel\n",
        "import kss"
      ],
      "metadata": {
        "id": "Anr6WTRpraMR"
      },
      "execution_count": 13,
      "outputs": []
    },
    {
      "cell_type": "code",
      "source": [
        "!nvidia-smi"
      ],
      "metadata": {
        "colab": {
          "base_uri": "https://localhost:8080/"
        },
        "id": "DRQ7aGVi4Wug",
        "outputId": "9dd1ec4c-6700-49c6-c97a-0aa6930ce858"
      },
      "execution_count": null,
      "outputs": [
        {
          "output_type": "stream",
          "name": "stdout",
          "text": [
            "Thu May 26 18:20:09 2022       \n",
            "+-----------------------------------------------------------------------------+\n",
            "| NVIDIA-SMI 460.32.03    Driver Version: 460.32.03    CUDA Version: 11.2     |\n",
            "|-------------------------------+----------------------+----------------------+\n",
            "| GPU  Name        Persistence-M| Bus-Id        Disp.A | Volatile Uncorr. ECC |\n",
            "| Fan  Temp  Perf  Pwr:Usage/Cap|         Memory-Usage | GPU-Util  Compute M. |\n",
            "|                               |                      |               MIG M. |\n",
            "|===============================+======================+======================|\n",
            "|   0  Tesla T4            Off  | 00000000:00:04.0 Off |                    0 |\n",
            "| N/A   51C    P0    28W /  70W |   4502MiB / 15109MiB |      0%      Default |\n",
            "|                               |                      |                  N/A |\n",
            "+-------------------------------+----------------------+----------------------+\n",
            "                                                                               \n",
            "+-----------------------------------------------------------------------------+\n",
            "| Processes:                                                                  |\n",
            "|  GPU   GI   CI        PID   Type   Process name                  GPU Memory |\n",
            "|        ID   ID                                                   Usage      |\n",
            "|=============================================================================|\n",
            "+-----------------------------------------------------------------------------+\n"
          ]
        }
      ]
    },
    {
      "cell_type": "markdown",
      "source": [
        "## 모델 새로 Fine Tuning 하기\n",
        "모델이 이미 있다면 , 스킵"
      ],
      "metadata": {
        "id": "5wV3-FWEPf3G"
      }
    },
    {
      "cell_type": "code",
      "source": [
        "#KoGPT2 tokenizer,모델 불러오기\n",
        "tokenizer = PreTrainedTokenizerFast.from_pretrained(\"skt/kogpt2-base-v2\",\n",
        "  bos_token='</s>', eos_token='</s>', unk_token='<unk>',\n",
        "  pad_token='<pad>', mask_token='<mask>') \n",
        "model = AutoModelWithLMHead.from_pretrained(\"skt/kogpt2-base-v2\")\n"
      ],
      "metadata": {
        "colab": {
          "base_uri": "https://localhost:8080/"
        },
        "id": "6kLQuZIZrby_",
        "outputId": "7a4db456-75d1-4eae-a204-d01a16dd1365"
      },
      "execution_count": null,
      "outputs": [
        {
          "output_type": "stream",
          "name": "stderr",
          "text": [
            "The tokenizer class you load from this checkpoint is not the same type as the class this function is called from. It may result in unexpected tokenization. \n",
            "The tokenizer class you load from this checkpoint is 'GPT2Tokenizer'. \n",
            "The class this function is called from is 'PreTrainedTokenizerFast'.\n"
          ]
        }
      ]
    },
    {
      "cell_type": "code",
      "source": [
        "#model input output tokenizer\n",
        "class TransformersTokenizer(Transform):\n",
        "   def __init__(self, tokenizer): self.tokenizer = tokenizer\n",
        "   def encodes(self, x): \n",
        "       toks = self.tokenizer.tokenize(x)\n",
        "       return tensor(self.tokenizer.convert_tokens_to_ids(toks))\n",
        "   def decodes(self, x): return TitledStr(self.tokenizer.decode(x.cpu().numpy()))\n"
      ],
      "metadata": {
        "id": "U8hk6kp3gXTW"
      },
      "execution_count": null,
      "outputs": []
    },
    {
      "cell_type": "code",
      "source": [
        "#데이터 tokenization\n",
        "#base_xl : 가사 데이터 위치 / lyrics_xlsx_list : 파일이름 리스트\n",
        "#xlsx 파일 오픈 , txt나 타 파일의 경우 , 또 다른 xlsx 파일의 경우 \n",
        "#코드 수정 필요\n",
        "\n",
        "#단어를 한 단어씩 띄어 lines에 모두 넣어주면 됨\n",
        "#lines= lines + \" \".join(ly_line.split())\n",
        "\n",
        "lyrics_xlsx_list = [\"9000D\",\"9000B\",\"0110D\",\"0110B\",\"1119B\",\"1119D\"]\n",
        "base_xl = \"/gdrive/My Drive/Colab Notebooks/corpus_data/\"\n",
        "\n",
        "lines = \"\"\n",
        "for k in lyrics_xlsx_list:\n",
        "  base_df_ly = pd.read_excel(base_xl+k+\".xlsx\", engine='openpyxl')\n",
        "\n",
        "  for i in base_df_ly.itertuples():\n",
        "    ly_line = i.lyrics\n",
        "    lines= lines + \" \".join(ly_line.split())\n",
        "  print(k)\n",
        "\n",
        "print(len(lines))\n",
        "\n",
        "#split data\n",
        "train=lines[:int(len(lines)*0.9)]\n",
        "test=lines[int(len(lines)*0.9):]\n",
        "splits = [[0],[1]]\n",
        "\n",
        "#init dataloader\n",
        "tls = TfmdLists([train,test], TransformersTokenizer(tokenizer), splits=splits, dl_type=LMDataLoader)\n",
        "batch,seq_len = 8,256\n",
        "dls = tls.dataloaders(bs=batch, seq_len=seq_len)\n",
        "\n",
        "#약 13분 소요"
      ],
      "metadata": {
        "id": "RkQe4P_EtyiJ"
      },
      "execution_count": null,
      "outputs": []
    },
    {
      "cell_type": "code",
      "source": [
        "#모델 구성 후 fine_tuning 진행\n",
        "#gpt2 ouput is tuple, we need just one val\n",
        "class DropOutput(Callback):\n",
        "  def after_pred(self): self.learn.pred = self.pred[0]\n",
        "      \n",
        "      \n",
        "learn = Learner(dls, model, loss_func=CrossEntropyLossFlat(), cbs=[DropOutput], metrics=Perplexity()).to_fp16()\n",
        "lr=learn.lr_find()\n",
        "print(lr)\n",
        "learn.fine_tune(6)\n",
        "\n",
        "#21분 소요"
      ],
      "metadata": {
        "colab": {
          "base_uri": "https://localhost:8080/",
          "height": 585
        },
        "id": "ogNvoD-2uHx6",
        "outputId": "8fee9a4b-3682-429b-c405-5c35877c6494"
      },
      "execution_count": null,
      "outputs": [
        {
          "output_type": "display_data",
          "data": {
            "text/plain": [
              "<IPython.core.display.HTML object>"
            ],
            "text/html": [
              "\n",
              "<style>\n",
              "    /* Turns off some styling */\n",
              "    progress {\n",
              "        /* gets rid of default border in Firefox and Opera. */\n",
              "        border: none;\n",
              "        /* Needs to be in here for Safari polyfill so background images work as expected. */\n",
              "        background-size: auto;\n",
              "    }\n",
              "    .progress-bar-interrupted, .progress-bar-interrupted::-webkit-progress-bar {\n",
              "        background: #F44336;\n",
              "    }\n",
              "</style>\n"
            ]
          },
          "metadata": {}
        },
        {
          "output_type": "display_data",
          "data": {
            "text/plain": [
              "<IPython.core.display.HTML object>"
            ],
            "text/html": [
              ""
            ]
          },
          "metadata": {}
        },
        {
          "output_type": "stream",
          "name": "stdout",
          "text": [
            "SuggestedLRs(lr_min=0.010000000149011612, lr_steep=0.0831763744354248)\n"
          ]
        },
        {
          "output_type": "display_data",
          "data": {
            "text/plain": [
              "<IPython.core.display.HTML object>"
            ],
            "text/html": [
              "\n",
              "<style>\n",
              "    /* Turns off some styling */\n",
              "    progress {\n",
              "        /* gets rid of default border in Firefox and Opera. */\n",
              "        border: none;\n",
              "        /* Needs to be in here for Safari polyfill so background images work as expected. */\n",
              "        background-size: auto;\n",
              "    }\n",
              "    .progress-bar-interrupted, .progress-bar-interrupted::-webkit-progress-bar {\n",
              "        background: #F44336;\n",
              "    }\n",
              "</style>\n"
            ]
          },
          "metadata": {}
        },
        {
          "output_type": "display_data",
          "data": {
            "text/plain": [
              "<IPython.core.display.HTML object>"
            ],
            "text/html": [
              "<table border=\"1\" class=\"dataframe\">\n",
              "  <thead>\n",
              "    <tr style=\"text-align: left;\">\n",
              "      <th>epoch</th>\n",
              "      <th>train_loss</th>\n",
              "      <th>valid_loss</th>\n",
              "      <th>perplexity</th>\n",
              "      <th>time</th>\n",
              "    </tr>\n",
              "  </thead>\n",
              "  <tbody>\n",
              "    <tr>\n",
              "      <td>0</td>\n",
              "      <td>4.914434</td>\n",
              "      <td>5.016362</td>\n",
              "      <td>150.861496</td>\n",
              "      <td>03:03</td>\n",
              "    </tr>\n",
              "  </tbody>\n",
              "</table>"
            ]
          },
          "metadata": {}
        },
        {
          "output_type": "display_data",
          "data": {
            "text/plain": [
              "<IPython.core.display.HTML object>"
            ],
            "text/html": [
              "\n",
              "<style>\n",
              "    /* Turns off some styling */\n",
              "    progress {\n",
              "        /* gets rid of default border in Firefox and Opera. */\n",
              "        border: none;\n",
              "        /* Needs to be in here for Safari polyfill so background images work as expected. */\n",
              "        background-size: auto;\n",
              "    }\n",
              "    .progress-bar-interrupted, .progress-bar-interrupted::-webkit-progress-bar {\n",
              "        background: #F44336;\n",
              "    }\n",
              "</style>\n"
            ]
          },
          "metadata": {}
        },
        {
          "output_type": "display_data",
          "data": {
            "text/plain": [
              "<IPython.core.display.HTML object>"
            ],
            "text/html": [
              "<table border=\"1\" class=\"dataframe\">\n",
              "  <thead>\n",
              "    <tr style=\"text-align: left;\">\n",
              "      <th>epoch</th>\n",
              "      <th>train_loss</th>\n",
              "      <th>valid_loss</th>\n",
              "      <th>perplexity</th>\n",
              "      <th>time</th>\n",
              "    </tr>\n",
              "  </thead>\n",
              "  <tbody>\n",
              "    <tr>\n",
              "      <td>0</td>\n",
              "      <td>3.824803</td>\n",
              "      <td>4.103664</td>\n",
              "      <td>60.561802</td>\n",
              "      <td>03:03</td>\n",
              "    </tr>\n",
              "    <tr>\n",
              "      <td>1</td>\n",
              "      <td>3.577798</td>\n",
              "      <td>3.893196</td>\n",
              "      <td>49.067436</td>\n",
              "      <td>03:02</td>\n",
              "    </tr>\n",
              "    <tr>\n",
              "      <td>2</td>\n",
              "      <td>3.138651</td>\n",
              "      <td>3.775068</td>\n",
              "      <td>43.600452</td>\n",
              "      <td>03:02</td>\n",
              "    </tr>\n",
              "    <tr>\n",
              "      <td>3</td>\n",
              "      <td>2.661606</td>\n",
              "      <td>3.767436</td>\n",
              "      <td>43.268970</td>\n",
              "      <td>03:02</td>\n",
              "    </tr>\n",
              "    <tr>\n",
              "      <td>4</td>\n",
              "      <td>2.148232</td>\n",
              "      <td>3.901993</td>\n",
              "      <td>49.501019</td>\n",
              "      <td>03:02</td>\n",
              "    </tr>\n",
              "    <tr>\n",
              "      <td>5</td>\n",
              "      <td>1.790505</td>\n",
              "      <td>4.043003</td>\n",
              "      <td>56.997253</td>\n",
              "      <td>03:02</td>\n",
              "    </tr>\n",
              "  </tbody>\n",
              "</table>"
            ]
          },
          "metadata": {}
        },
        {
          "output_type": "display_data",
          "data": {
            "text/plain": [
              "<Figure size 432x288 with 1 Axes>"
            ],
            "image/png": "[encoded data removed]"
          },
          "metadata": {
            "needs_background": "light"
          }
        }
      ]
    },
    {
      "cell_type": "code",
      "source": [
        "#구성하고 학습한 모델을 저장 , 모델 경로에 주의\n",
        "torch.save(model, f'/gdrive/My Drive/Colab Notebooks/corpus_data/model.pt')"
      ],
      "metadata": {
        "id": "JxsmtV0cxYFK"
      },
      "execution_count": null,
      "outputs": []
    },
    {
      "cell_type": "markdown",
      "source": [
        "## Fine-Tuning 된 모델 사용"
      ],
      "metadata": {
        "id": "r3Y6WoUnQ4rI"
      }
    },
    {
      "cell_type": "code",
      "source": [
        "print(\"cuda version: {}\".format(torch.version.cuda))"
      ],
      "metadata": {
        "colab": {
          "base_uri": "https://localhost:8080/"
        },
        "id": "wNRKMfYEQrYu",
        "outputId": "87f3c783-2f9a-48fd-83ac-27ec5dc8e775"
      },
      "execution_count": null,
      "outputs": [
        {
          "output_type": "stream",
          "name": "stdout",
          "text": [
            "cuda version: 10.2\n"
          ]
        }
      ]
    },
    {
      "cell_type": "code",
      "source": [
        "#이미 학습된 모델 및 KoGPT2 tokenizer 불러오기\n",
        "\n",
        "#=============================================================================\n",
        "tokenizer = PreTrainedTokenizerFast.from_pretrained(\"skt/kogpt2-base-v2\",\n",
        "  bos_token='</s>', eos_token='</s>', unk_token='<unk>',\n",
        "  pad_token='<pad>', mask_token='<mask>')\n",
        "model = torch.load('/gdrive/My Drive/Colab Notebooks/corpus_data/model.pt',map_location=torch.device('cpu'))\n",
        "#============================================================================="
      ],
      "metadata": {
        "id": "heOWhvNAydwA",
        "colab": {
          "base_uri": "https://localhost:8080/"
        },
        "outputId": "9e647e7a-0041-400c-9035-6e1b52b7bc61"
      },
      "execution_count": 15,
      "outputs": [
        {
          "output_type": "stream",
          "name": "stderr",
          "text": [
            "The tokenizer class you load from this checkpoint is not the same type as the class this function is called from. It may result in unexpected tokenization. \n",
            "The tokenizer class you load from this checkpoint is 'GPT2Tokenizer'. \n",
            "The class this function is called from is 'PreTrainedTokenizerFast'.\n"
          ]
        }
      ]
    },
    {
      "cell_type": "code",
      "source": [
        "#make_line(키워드 혹은 가사 생성시 사용할 미끼가사 , 문장의 길이)\n",
        "#output = KoGPT2로 생성한 가사\n",
        "\n",
        "def make_line(rhyme_word,word_len):\n",
        "  prompt= rhyme_word\n",
        "  prompt_ids = tokenizer.encode(prompt)\n",
        "  inp = tensor(prompt_ids)[None]\n",
        "  preds = model.generate(inp,\n",
        "                           max_length=word_len,\n",
        "                           pad_token_id=tokenizer.pad_token_id,\n",
        "                           eos_token_id=tokenizer.eos_token_id,\n",
        "                           bos_token_id=tokenizer.bos_token_id,\n",
        "                           repetition_penalty=2.0,       \n",
        "                           use_cache=True\n",
        "                          ) \n",
        "  return tokenizer.decode(preds[0].cpu().numpy())"
      ],
      "metadata": {
        "id": "l5x_VfY6RVHK"
      },
      "execution_count": 25,
      "outputs": []
    },
    {
      "cell_type": "code",
      "source": [
        "def make_verse_seq(key_word,verse_maxlen,\n",
        "               max_rhyme_hit,min_rhyme_hit,min_level=0):\n",
        "  \n",
        "  base_sim = sim_after_rhyme(key_word,max_rhyme_hit,min_rhyme_hit,min_level)\n",
        "  base_sim = [[key_word]] + base_sim\n",
        "\n",
        "  use_word = []\n",
        "  verse = \"\"\n",
        "  verse_idx = 1\n",
        "\n",
        "  for i in base_sim:\n",
        "    if i[0] not in use_word:\n",
        "      ori_verse = verse\n",
        "      verse += (\" \" + i[0])\n",
        "      use_word.append(i[0])\n",
        "      print(\"now use_word... : \",use_word)\n",
        "      check = True\n",
        "\n",
        "      for p in range(len(verse)+1,verse_maxlen):\n",
        "        make = kss.split_sentences((make_line(verse,p)))\n",
        "        if len(make) > verse_idx:\n",
        "          verse = make_line(verse,p-1)\n",
        "          verse_idx += 1\n",
        "          check = False\n",
        "          break\n",
        "      \n",
        "      if check:\n",
        "        verse = ori_verse\n",
        "        use_word.pop(-1)\n",
        "\n",
        "  return verse\n",
        "\n"
      ],
      "metadata": {
        "id": "mknVifgqUXKU"
      },
      "execution_count": 17,
      "outputs": []
    },
    {
      "cell_type": "code",
      "source": [
        "def make_verse_not_seq(key_word,verse_maxlen,one_verse_len,\n",
        "               max_rhyme_hit,min_rhyme_hit,min_level=0):\n",
        "  \n",
        "  base_sim = sim_after_rhyme(key_word,max_rhyme_hit,min_rhyme_hit,min_level)\n",
        "  base_sim = [[key_word]] + base_sim\n",
        "  print(base_sim)\n",
        "\n",
        "  use_word = []\n",
        "  check = 0\n",
        "  ori_verse =\"\"\n",
        "\n",
        "  for i in base_sim:\n",
        "    if i[0] not in use_word:\n",
        "      verse = i[0] + \" \"\n",
        "      use_word.append(i[0])\n",
        "      print(\"now use_words... : \",use_word)\n",
        "      check += 1\n",
        "\n",
        "      for p in range(len(verse)+1,one_verse_len):\n",
        "        make = kss.split_sentences((make_line(verse,p)))\n",
        "        if len(make) >= 2:\n",
        "          parsing_verse = make_line(verse,p-1)\n",
        "          ori_verse += (\" \" + parsing_verse)\n",
        "          print(parsing_verse)\n",
        "          break\n",
        "      \n",
        "      if check >= verse_maxlen:\n",
        "        break\n",
        "\n",
        "  print(ori_verse)\n",
        "  return ori_verse"
      ],
      "metadata": {
        "id": "gfYimsoXkHGo"
      },
      "execution_count": 18,
      "outputs": []
    },
    {
      "cell_type": "code",
      "source": [
        "def make_verse_choose(key_word,verse_maxlen,one_verse_max_len,\n",
        "               max_rhyme_hit,min_rhyme_hit,min_level=0):\n",
        "  \n",
        "  base_sim = sim_after_rhyme(key_word,max_rhyme_hit,min_rhyme_hit,min_level)\n",
        "  base_sim = [[key_word]] + base_sim\n",
        "\n",
        "  use_word = []\n",
        "  check = 0\n",
        "  ori_verse = []\n",
        "\n",
        "  for i in base_sim:\n",
        "    if i[0] not in use_word:\n",
        "      verse = i[0] + \" \"\n",
        "      use_word.append(i[0])\n",
        "      print(\"now using_words... : \",use_word)\n",
        "\n",
        "      for p in range(len(verse)+1,one_verse_max_len):\n",
        "        make = kss.split_sentences((make_line(verse,p)))\n",
        "        if len(make) >= 2 or p == one_verse_max_len-1:\n",
        "          parsing_verse = make_line(verse,p-1)\n",
        "\n",
        "          parsing_list = list(parsing_verse.split(\" \"))\n",
        "          parsing_len = len(parsing_list)\n",
        "          print(\"========================\")\n",
        "          print(\"현재가사 : \")\n",
        "          for gasa in ori_verse:\n",
        "            print(gasa)\n",
        "          print(\"========================\")\n",
        "          print(\"가장 적절한 가사 번호 선택, 마음에 들지 않으면 -1로 스킵\")\n",
        "          print(\"========================\")\n",
        "          for k in range(1,parsing_len+1):\n",
        "            result = ' '.join(s for s in parsing_list[0:k])\n",
        "            stdout.write(\"선택 %d : %s \\n\" % (k,result))\n",
        "          print(\"========================\")\n",
        "          cho = int(input())\n",
        "          if cho != -1:\n",
        "            ori_verse.append(' '.join(s for s in parsing_list[0:cho]))\n",
        "            stdout.flush()\n",
        "            check += 1\n",
        "          break\n",
        "      \n",
        "      if check >= verse_maxlen:\n",
        "        break\n",
        "\n",
        "  return ori_verse"
      ],
      "metadata": {
        "id": "rseKLJdJqJnW"
      },
      "execution_count": 21,
      "outputs": []
    },
    {
      "cell_type": "code",
      "source": [
        "def make_verse_choose_without_word2vec(\n",
        "    key_word,verse_maxlen,one_verse_max_len,\n",
        "    max_rhyme_hit,min_rhyme_hit,min_level=0):\n",
        "  \n",
        "  a,b,c = score_rank(key_word,max_rhyme_hit,min_rhyme_hit)\n",
        "  base_sim =  a + b + c\n",
        "  base_sim.sort(key=lambda x : x[1],reverse=True)\n",
        "  base_sim = [[key_word]] + base_sim\n",
        "\n",
        "  use_word = []\n",
        "  check = 0\n",
        "  ori_verse = []\n",
        "\n",
        "  for i in base_sim:\n",
        "    if i[0] not in use_word:\n",
        "      verse = i[0] + \" \"\n",
        "      use_word.append(i[0])\n",
        "      print(\"now using_words... : \",use_word)\n",
        "\n",
        "      for p in range(len(verse)+1,one_verse_max_len):\n",
        "        make = kss.split_sentences((make_line(verse,p)))\n",
        "        if len(make) >= 2 or p == one_verse_max_len-1:\n",
        "          parsing_verse = make_line(verse,p-1)\n",
        "\n",
        "          parsing_list = list(parsing_verse.split(\" \"))\n",
        "          parsing_len = len(parsing_list)\n",
        "          print(\"========================\")\n",
        "          print(\"현재가사 : \")\n",
        "          for gasa in ori_verse:\n",
        "            print(gasa)\n",
        "          print(\"========================\")\n",
        "          print(\"가장 적절한 가사 번호 선택, 마음에 들지 않으면 -1로 스킵\")\n",
        "          print(\"========================\")\n",
        "          for k in range(1,parsing_len+1):\n",
        "            result = ' '.join(s for s in parsing_list[0:k])\n",
        "            stdout.write(\"선택 %d : %s \\n\" % (k,result))\n",
        "          print(\"========================\")\n",
        "          cho = int(input())\n",
        "          if cho != -1:\n",
        "            ori_verse.append(' '.join(s for s in parsing_list[0:cho]))\n",
        "            stdout.flush()\n",
        "            check += 1\n",
        "          break\n",
        "      \n",
        "      if check >= verse_maxlen:\n",
        "        break\n",
        "\n",
        "  return ori_verse"
      ],
      "metadata": {
        "id": "__pro1PX4K5E"
      },
      "execution_count": 22,
      "outputs": []
    },
    {
      "cell_type": "code",
      "source": [
        "#=============================================================================\n",
        "#모든 쉘 실행 후 Colab or jupyter notebook 상에서 사용\n",
        "#=============================================================================\n",
        "\n",
        "#함수 설명\n",
        "\n",
        "#make_line(rhyme_word,word_len)\n",
        "  #rhyme_word : 키워드 혹은 가사 생성시 사용할 미끼가사\n",
        "  #word_len : 전체 가사의 길이\n",
        "\n",
        "  #output : 라임을 고려하지 않은 일반적인 가사\n",
        "\n",
        "#make_verse_seq(key_word,verse_maxlen,\n",
        "               #max_rhyme_hit,min_rhyme_hit,min_level=0)\n",
        "  #key_word : 가사에 처음으로 사용할 단어\n",
        "  #verse_maxlen : 전체 가사의 길이\n",
        "  #max_rhyme_hit : 사용할 단어들의 최대 라임 HIT\n",
        "  #min_rhyme_hit : 사용할 단어들의 최소 라임 HIT\n",
        "  #min_level=0 : 사용할 단어들의 word2vec 최소 유사도 ( 미만이면 사용 X )\n",
        "\n",
        "  #시퀀스로 가사를 생성하는 방식\n",
        "  #한단어로 가사를 만들고 그 위에 덮어 씌우는 방식\n",
        "\n",
        "#make_verse_not_seq(key_word,verse_maxlen,one_verse_len,\n",
        "               #max_rhyme_hit,min_rhyme_hit,min_level=0)\n",
        "  #key_word : 가사에 처음으로 사용할 단어\n",
        "  #verse_maxlen : 전체 가사의 줄의 개수\n",
        "  #one_verse_len : 허용할 가사 한줄의 최대 길이\n",
        "  #max_rhyme_hit : 사용할 단어들의 최대 라임 HIT\n",
        "  #min_rhyme_hit : 사용할 단어들의 최소 라임 HIT\n",
        "  #min_level=0 : 사용할 단어들의 word2vec 최소 유사도 ( 미만이면 사용 X )\n",
        "\n",
        "  #여러 단어들을 통해 가사를 각각 한 줄씩 만들고\n",
        "  #이후 합치는 방법으로 진행\n",
        "\n",
        "# make_verse_choose_without_word2vec(\n",
        "    #key_word,verse_maxlen,one_verse_max_len,\n",
        "    #max_rhyme_hit,min_rhyme_hit,min_level=0)\n",
        "\n",
        "  #key_word : 가사에 처음으로 사용할 단어\n",
        "  #verse_maxlen : 전체 가사의 줄의 개수\n",
        "  #one_verse_len : 허용할 가사 한줄의 최대 길이\n",
        "  #max_rhyme_hit : 사용할 단어들의 최대 라임 HIT\n",
        "  #min_rhyme_hit : 사용할 단어들의 최소 라임 HIT\n",
        "  #min_level=0 : 사용할 단어들의 word2vec 최소 유사도 ( 미만이면 사용 X )\n",
        "\n",
        "  #가사 생성은 모델이 진행하지만 , 선택은 사람이 할 수 있음\n",
        "  #인공지능이 생성한 여러가지 가사들 중 사용자가 원하는 가사를 선택\n",
        "  #한줄 한줄 이어나가 최종적인 가사 전체를 구성\n",
        "\n",
        "#============================================================================="
      ],
      "metadata": {
        "id": "1j1HOn5czcqZ"
      },
      "execution_count": 23,
      "outputs": []
    },
    {
      "cell_type": "code",
      "source": [
        "lyc = make_verse_choose(\"여름\",5,100,5,4)\n",
        "for i in kss.split_sentences(lyc):\n",
        "  #문장 단위로 나누어 확인\n",
        "  print(i)"
      ],
      "metadata": {
        "id": "nTOH3lp0MHOB",
        "colab": {
          "base_uri": "https://localhost:8080/"
        },
        "outputId": "131af975-c459-4309-b2e2-94c91fb69580"
      },
      "execution_count": null,
      "outputs": [
        {
          "output_type": "stream",
          "name": "stdout",
          "text": [
            "now using_words... :  ['여름']\n",
            "========================\n",
            "현재가사 : \n",
            "========================\n",
            "가장 적절한 가사 번호 선택, 마음에 들지 않으면 -1로 스킵\n",
            "========================\n",
            "선택 1 : 여름 \n",
            "선택 2 : 여름 heart \n",
            "선택 3 : 여름 heart break \n",
            "선택 4 : 여름 heart break my \n",
            "선택 5 : 여름 heart break my skill \n",
            "선택 6 : 여름 heart break my skill you \n",
            "선택 7 : 여름 heart break my skill you feel \n",
            "선택 8 : 여름 heart break my skill you feel the \n",
            "선택 9 : 여름 heart break my skill you feel the voice \n",
            "선택 10 : 여름 heart break my skill you feel the voice coffe, \n",
            "선택 11 : 여름 heart break my skill you feel the voice coffe, likes \n",
            "선택 12 : 여름 heart break my skill you feel the voice coffe, likes girls \n",
            "선택 13 : 여름 heart break my skill you feel the voice coffe, likes girls Dance \n",
            "선택 14 : 여름 heart break my skill you feel the voice coffe, likes girls Dance with \n",
            "선택 15 : 여름 heart break my skill you feel the voice coffe, likes girls Dance with a \n",
            "선택 16 : 여름 heart break my skill you feel the voice coffe, likes girls Dance with a diamond \n",
            "선택 17 : 여름 heart break my skill you feel the voice coffe, likes girls Dance with a diamond what \n",
            "선택 18 : 여름 heart break my skill you feel the voice coffe, likes girls Dance with a diamond what Im \n",
            "선택 19 : 여름 heart break my skill you feel the voice coffe, likes girls Dance with a diamond what Im not \n",
            "선택 20 : 여름 heart break my skill you feel the voice coffe, likes girls Dance with a diamond what Im not alone \n",
            "선택 21 : 여름 heart break my skill you feel the voice coffe, likes girls Dance with a diamond what Im not alone All \n",
            "선택 22 : 여름 heart break my skill you feel the voice coffe, likes girls Dance with a diamond what Im not alone All only \n",
            "선택 23 : 여름 heart break my skill you feel the voice coffe, likes girls Dance with a diamond what Im not alone All only thing \n",
            "선택 24 : 여름 heart break my skill you feel the voice coffe, likes girls Dance with a diamond what Im not alone All only thing as \n",
            "선택 25 : 여름 heart break my skill you feel the voice coffe, likes girls Dance with a diamond what Im not alone All only thing as Your \n",
            "선택 26 : 여름 heart break my skill you feel the voice coffe, likes girls Dance with a diamond what Im not alone All only thing as Your ever \n",
            "선택 27 : 여름 heart break my skill you feel the voice coffe, likes girls Dance with a diamond what Im not alone All only thing as Your ever and \n",
            "선택 28 : 여름 heart break my skill you feel the voice coffe, likes girls Dance with a diamond what Im not alone All only thing as Your ever and own \n",
            "선택 29 : 여름 heart break my skill you feel the voice coffe, likes girls Dance with a diamond what Im not alone All only thing as Your ever and own Three \n",
            "선택 30 : 여름 heart break my skill you feel the voice coffe, likes girls Dance with a diamond what Im not alone All only thing as Your ever and own Three Heard \n",
            "선택 31 : 여름 heart break my skill you feel the voice coffe, likes girls Dance with a diamond what Im not alone All only thing as Your ever and own Three Heard to \n",
            "선택 32 : 여름 heart break my skill you feel the voice coffe, likes girls Dance with a diamond what Im not alone All only thing as Your ever and own Three Heard to stay \n",
            "선택 33 : 여름 heart break my skill you feel the voice coffe, likes girls Dance with a diamond what Im not alone All only thing as Your ever and own Three Heard to stay attack \n",
            "선택 34 : 여름 heart break my skill you feel the voice coffe, likes girls Dance with a diamond what Im not alone All only thing as Your ever and own Three Heard to stay attack Here \n",
            "선택 35 : 여름 heart break my skill you feel the voice coffe, likes girls Dance with a diamond what Im not alone All only thing as Your ever and own Three Heard to stay attack Here in \n",
            "선택 36 : 여름 heart break my skill you feel the voice coffe, likes girls Dance with a diamond what Im not alone All only thing as Your ever and own Three Heard to stay attack Here in amazition \n",
            "선택 37 : 여름 heart break my skill you feel the voice coffe, likes girls Dance with a diamond what Im not alone All only thing as Your ever and own Three Heard to stay attack Here in amazition Whenever \n",
            "선택 38 : 여름 heart break my skill you feel the voice coffe, likes girls Dance with a diamond what Im not alone All only thing as Your ever and own Three Heard to stay attack Here in amazition Whenever forget \n",
            "선택 39 : 여름 heart break my skill you feel the voice coffe, likes girls Dance with a diamond what Im not alone All only thing as Your ever and own Three Heard to stay attack Here in amazition Whenever forget Turn \n",
            "선택 40 : 여름 heart break my skill you feel the voice coffe, likes girls Dance with a diamond what Im not alone All only thing as Your ever and own Three Heard to stay attack Here in amazition Whenever forget Turn around \n",
            "선택 41 : 여름 heart break my skill you feel the voice coffe, likes girls Dance with a diamond what Im not alone All only thing as Your ever and own Three Heard to stay attack Here in amazition Whenever forget Turn around high \n",
            "선택 42 : 여름 heart break my skill you feel the voice coffe, likes girls Dance with a diamond what Im not alone All only thing as Your ever and own Three Heard to stay attack Here in amazition Whenever forget Turn around high Light \n",
            "선택 43 : 여름 heart break my skill you feel the voice coffe, likes girls Dance with a diamond what Im not alone All only thing as Your ever and own Three Heard to stay attack Here in amazition Whenever forget Turn around high Light from \n",
            "선택 44 : 여름 heart break my skill you feel the voice coffe, likes girls Dance with a diamond what Im not alone All only thing as Your ever and own Three Heard to stay attack Here in amazition Whenever forget Turn around high Light from reallin \n",
            "선택 45 : 여름 heart break my skill you feel the voice coffe, likes girls Dance with a diamond what Im not alone All only thing as Your ever and own Three Heard to stay attack Here in amazition Whenever forget Turn around high Light from reallin 무너져 \n",
            "========================\n",
            " 3\n",
            "now using_words... :  ['여름', '보름']\n",
            "========================\n",
            "현재가사 : \n",
            "여름 heart break\n",
            "========================\n",
            "가장 적절한 가사 번호 선택, 마음에 들지 않으면 -1로 스킵\n",
            "========================\n",
            "선택 1 : 보름 \n",
            "선택 2 : 보름 켠의 \n",
            "선택 3 : 보름 켠의 인형 \n",
            "선택 4 : 보름 켠의 인형 가만히 \n",
            "선택 5 : 보름 켠의 인형 가만히 눈을 \n",
            "선택 6 : 보름 켠의 인형 가만히 눈을 감았어 \n",
            "========================\n",
            "6\n",
            "now using_words... :  ['여름', '보름', '보름달']\n",
            "========================\n",
            "현재가사 : \n",
            "여름 heart break\n",
            "보름 켠의 인형 가만히 눈을 감았어\n",
            "========================\n",
            "가장 적절한 가사 번호 선택, 마음에 들지 않으면 -1로 스킵\n",
            "========================\n",
            "선택 1 : 보름달 \n",
            "선택 2 : 보름달 넌 \n",
            "선택 3 : 보름달 넌 내맘을 \n",
            "선택 4 : 보름달 넌 내맘을 몰라주니 \n",
            "선택 5 : 보름달 넌 내맘을 몰라주니 무심하게 \n",
            "선택 6 : 보름달 넌 내맘을 몰라주니 무심하게 말하지마 \n",
            "선택 7 : 보름달 넌 내맘을 몰라주니 무심하게 말하지마 니가 \n",
            "선택 8 : 보름달 넌 내맘을 몰라주니 무심하게 말하지마 니가 날 \n",
            "선택 9 : 보름달 넌 내맘을 몰라주니 무심하게 말하지마 니가 날 좋아한다면 \n",
            "선택 10 : 보름달 넌 내맘을 몰라주니 무심하게 말하지마 니가 날 좋아한다면 그래야되잖아 \n",
            "========================\n",
            "4\n",
            "now using_words... :  ['여름', '보름', '보름달', '얼음']\n",
            "========================\n",
            "현재가사 : \n",
            "여름 heart break\n",
            "보름 켠의 인형 가만히 눈을 감았어\n",
            "보름달 넌 내맘을 몰라주니\n",
            "========================\n",
            "가장 적절한 가사 번호 선택, 마음에 들지 않으면 -1로 스킵\n",
            "========================\n",
            "선택 1 : 얼음 \n",
            "선택 2 : 얼음 팡 \n",
            "선택 3 : 얼음 팡 하고 \n",
            "선택 4 : 얼음 팡 하고 터질 \n",
            "선택 5 : 얼음 팡 하고 터질 것 \n",
            "선택 6 : 얼음 팡 하고 터질 것 같아 \n",
            "선택 7 : 얼음 팡 하고 터질 것 같아 어떡해 \n",
            "선택 8 : 얼음 팡 하고 터질 것 같아 어떡해 자꾸만 \n",
            "선택 9 : 얼음 팡 하고 터질 것 같아 어떡해 자꾸만 너에게 \n",
            "선택 10 : 얼음 팡 하고 터질 것 같아 어떡해 자꾸만 너에게 다가서는 \n",
            "선택 11 : 얼음 팡 하고 터질 것 같아 어떡해 자꾸만 너에게 다가서는 그만큼 \n",
            "선택 12 : 얼음 팡 하고 터질 것 같아 어떡해 자꾸만 너에게 다가서는 그만큼 매일 \n",
            "선택 13 : 얼음 팡 하고 터질 것 같아 어떡해 자꾸만 너에게 다가서는 그만큼 매일 나에게 \n",
            "선택 14 : 얼음 팡 하고 터질 것 같아 어떡해 자꾸만 너에게 다가서는 그만큼 매일 나에게 고백하는 \n",
            "선택 15 : 얼음 팡 하고 터질 것 같아 어떡해 자꾸만 너에게 다가서는 그만큼 매일 나에게 고백하는 널 \n",
            "선택 16 : 얼음 팡 하고 터질 것 같아 어떡해 자꾸만 너에게 다가서는 그만큼 매일 나에게 고백하는 널 향한 \n",
            "선택 17 : 얼음 팡 하고 터질 것 같아 어떡해 자꾸만 너에게 다가서는 그만큼 매일 나에게 고백하는 널 향한 내 \n",
            "선택 18 : 얼음 팡 하고 터질 것 같아 어떡해 자꾸만 너에게 다가서는 그만큼 매일 나에게 고백하는 널 향한 내 맘은 \n",
            "선택 19 : 얼음 팡 하고 터질 것 같아 어떡해 자꾸만 너에게 다가서는 그만큼 매일 나에게 고백하는 널 향한 내 맘은 why \n",
            "선택 20 : 얼음 팡 하고 터질 것 같아 어떡해 자꾸만 너에게 다가서는 그만큼 매일 나에게 고백하는 널 향한 내 맘은 why youre \n",
            "선택 21 : 얼음 팡 하고 터질 것 같아 어떡해 자꾸만 너에게 다가서는 그만큼 매일 나에게 고백하는 널 향한 내 맘은 why youre mine \n",
            "선택 22 : 얼음 팡 하고 터질 것 같아 어떡해 자꾸만 너에게 다가서는 그만큼 매일 나에게 고백하는 널 향한 내 맘은 why youre mine craze \n",
            "선택 23 : 얼음 팡 하고 터질 것 같아 어떡해 자꾸만 너에게 다가서는 그만큼 매일 나에게 고백하는 널 향한 내 맘은 why youre mine craze baby, \n",
            "선택 24 : 얼음 팡 하고 터질 것 같아 어떡해 자꾸만 너에게 다가서는 그만큼 매일 나에게 고백하는 널 향한 내 맘은 why youre mine craze baby, telling \n",
            "선택 25 : 얼음 팡 하고 터질 것 같아 어떡해 자꾸만 너에게 다가서는 그만큼 매일 나에게 고백하는 널 향한 내 맘은 why youre mine craze baby, telling to \n",
            "선택 26 : 얼음 팡 하고 터질 것 같아 어떡해 자꾸만 너에게 다가서는 그만큼 매일 나에게 고백하는 널 향한 내 맘은 why youre mine craze baby, telling to say \n",
            "선택 27 : 얼음 팡 하고 터질 것 같아 어떡해 자꾸만 너에게 다가서는 그만큼 매일 나에게 고백하는 널 향한 내 맘은 why youre mine craze baby, telling to say goodbye \n",
            "선택 28 : 얼음 팡 하고 터질 것 같아 어떡해 자꾸만 너에게 다가서는 그만큼 매일 나에게 고백하는 널 향한 내 맘은 why youre mine craze baby, telling to say goodbye 이리와봐요 \n",
            "선택 29 : 얼음 팡 하고 터질 것 같아 어떡해 자꾸만 너에게 다가서는 그만큼 매일 나에게 고백하는 널 향한 내 맘은 why youre mine craze baby, telling to say goodbye 이리와봐요 왜 \n",
            "선택 30 : 얼음 팡 하고 터질 것 같아 어떡해 자꾸만 너에게 다가서는 그만큼 매일 나에게 고백하는 널 향한 내 맘은 why youre mine craze baby, telling to say goodbye 이리와봐요 왜 이래야 \n",
            "선택 31 : 얼음 팡 하고 터질 것 같아 어떡해 자꾸만 너에게 다가서는 그만큼 매일 나에게 고백하는 널 향한 내 맘은 why youre mine craze baby, telling to say goodbye 이리와봐요 왜 이래야 하는지 \n",
            "선택 32 : 얼음 팡 하고 터질 것 같아 어떡해 자꾸만 너에게 다가서는 그만큼 매일 나에게 고백하는 널 향한 내 맘은 why youre mine craze baby, telling to say goodbye 이리와봐요 왜 이래야 하는지 몰라줘 \n",
            "========================\n",
            "7\n",
            "now using_words... :  ['여름', '보름', '보름달', '얼음', '결승']\n",
            "========================\n",
            "현재가사 : \n",
            "여름 heart break\n",
            "보름 켠의 인형 가만히 눈을 감았어\n",
            "보름달 넌 내맘을 몰라주니\n",
            "얼음 팡 하고 터질 것 같아 어떡해\n",
            "========================\n",
            "가장 적절한 가사 번호 선택, 마음에 들지 않으면 -1로 스킵\n",
            "========================\n",
            "선택 1 : 결승 \n",
            "선택 2 : 결승 넌 \n",
            "선택 3 : 결승 넌 내 \n",
            "선택 4 : 결승 넌 내 손바닥 \n",
            "선택 5 : 결승 넌 내 손바닥 안돼 \n",
            "========================\n",
            "4\n",
            "now using_words... :  ['여름', '보름', '보름달', '얼음', '결승', '구름']\n",
            "========================\n",
            "현재가사 : \n",
            "여름 heart break\n",
            "보름 켠의 인형 가만히 눈을 감았어\n",
            "보름달 넌 내맘을 몰라주니\n",
            "얼음 팡 하고 터질 것 같아 어떡해\n",
            "결승 넌 내 손바닥\n",
            "========================\n",
            "가장 적절한 가사 번호 선택, 마음에 들지 않으면 -1로 스킵\n",
            "========================\n",
            "선택 1 : 구름 \n",
            "선택 2 : 구름 팡 \n",
            "선택 3 : 구름 팡 하고 \n",
            "선택 4 : 구름 팡 하고 터질 \n",
            "선택 5 : 구름 팡 하고 터질 것 \n",
            "선택 6 : 구름 팡 하고 터질 것 같아 \n",
            "선택 7 : 구름 팡 하고 터질 것 같아 어머어쩜 \n",
            "선택 8 : 구름 팡 하고 터질 것 같아 어머어쩜 좋아 \n",
            "선택 9 : 구름 팡 하고 터질 것 같아 어머어쩜 좋아 자꾸자꾸 \n",
            "선택 10 : 구름 팡 하고 터질 것 같아 어머어쩜 좋아 자꾸자꾸 그럼 \n",
            "선택 11 : 구름 팡 하고 터질 것 같아 어머어쩜 좋아 자꾸자꾸 그럼 나 \n",
            "선택 12 : 구름 팡 하고 터질 것 같아 어머어쩜 좋아 자꾸자꾸 그럼 나 뿔나니까 \n",
            "선택 13 : 구름 팡 하고 터질 것 같아 어머어쩜 좋아 자꾸자꾸 그럼 나 뿔나니까 내 \n",
            "선택 14 : 구름 팡 하고 터질 것 같아 어머어쩜 좋아 자꾸자꾸 그럼 나 뿔나니까 내 맘이 \n",
            "선택 15 : 구름 팡 하고 터질 것 같아 어머어쩜 좋아 자꾸자꾸 그럼 나 뿔나니까 내 맘이 설레이는 \n",
            "선택 16 : 구름 팡 하고 터질 것 같아 어머어쩜 좋아 자꾸자꾸 그럼 나 뿔나니까 내 맘이 설레이는 건지 \n",
            "선택 17 : 구름 팡 하고 터질 것 같아 어머어쩜 좋아 자꾸자꾸 그럼 나 뿔나니까 내 맘이 설레이는 건지 아님 \n",
            "선택 18 : 구름 팡 하고 터질 것 같아 어머어쩜 좋아 자꾸자꾸 그럼 나 뿔나니까 내 맘이 설레이는 건지 아님 안 \n",
            "선택 19 : 구름 팡 하고 터질 것 같아 어머어쩜 좋아 자꾸자꾸 그럼 나 뿔나니까 내 맘이 설레이는 건지 아님 안 되겠니 \n",
            "선택 20 : 구름 팡 하고 터질 것 같아 어머어쩜 좋아 자꾸자꾸 그럼 나 뿔나니까 내 맘이 설레이는 건지 아님 안 되겠니 우린 \n",
            "선택 21 : 구름 팡 하고 터질 것 같아 어머어쩜 좋아 자꾸자꾸 그럼 나 뿔나니까 내 맘이 설레이는 건지 아님 안 되겠니 우린 친구잖아 \n",
            "========================\n",
            "6\n",
            "now using_words... :  ['여름', '보름', '보름달', '얼음', '결승', '구름', '열흘']\n",
            "========================\n",
            "현재가사 : \n",
            "여름 heart break\n",
            "보름 켠의 인형 가만히 눈을 감았어\n",
            "보름달 넌 내맘을 몰라주니\n",
            "얼음 팡 하고 터질 것 같아 어떡해\n",
            "결승 넌 내 손바닥\n",
            "구름 팡 하고 터질 것 같아\n",
            "========================\n",
            "가장 적절한 가사 번호 선택, 마음에 들지 않으면 -1로 스킵\n",
            "========================\n",
            "선택 1 : 열흘 \n",
            "선택 2 : 열흘 째깍 \n",
            "선택 3 : 열흘 째깍 시간이 \n",
            "선택 4 : 열흘 째깍 시간이 흘러가네 \n",
            "========================\n"
          ]
        }
      ]
    }
  ]
}